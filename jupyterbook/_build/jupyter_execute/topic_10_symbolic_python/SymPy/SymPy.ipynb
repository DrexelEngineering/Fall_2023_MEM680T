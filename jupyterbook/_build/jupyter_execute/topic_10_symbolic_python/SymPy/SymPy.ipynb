{
 "cells": [
  {
   "cell_type": "markdown",
   "id": "8ed6ae1f",
   "metadata": {
    "slideshow": {
     "slide_type": "slide"
    }
   },
   "source": [
    "# Sympy\n"
   ]
  },
  {
   "cell_type": "markdown",
   "id": "23a1a1a3",
   "metadata": {
    "slideshow": {
     "slide_type": "fragment"
    }
   },
   "source": [
    "## What is Symbolic Computation?\n",
    "\n",
    "Symbolic computation deals with the computation of mathematical objects\n",
    "symbolically. This means that the mathematical objects are represented\n",
    "exactly, not approximately, and mathematical expressions with unevaluated\n",
    "variables are left in symbolic form.\n"
   ]
  },
  {
   "cell_type": "markdown",
   "id": "3b0fc9c9",
   "metadata": {
    "slideshow": {
     "slide_type": "fragment"
    }
   },
   "source": [
    "Let’s take an example. Say we wanted to use the built-in Python functions to\n",
    "compute square roots. We might do something like this\n"
   ]
  },
  {
   "cell_type": "code",
   "execution_count": 1,
   "id": "3f0c1885",
   "metadata": {
    "slideshow": {
     "slide_type": "fragment"
    }
   },
   "outputs": [
    {
     "data": {
      "text/plain": [
       "3.0"
      ]
     },
     "execution_count": 1,
     "metadata": {},
     "output_type": "execute_result"
    }
   ],
   "source": [
    "import math\n",
    "\n",
    "math.sqrt(9)"
   ]
  },
  {
   "cell_type": "markdown",
   "id": "c968bea6",
   "metadata": {
    "slideshow": {
     "slide_type": "fragment"
    }
   },
   "source": [
    "9 is a perfect square, so we got the exact answer, 3. But suppose we computed\n",
    "the square root of a number that isn’t a perfect square\n"
   ]
  },
  {
   "cell_type": "code",
   "execution_count": 2,
   "id": "e7fd7678",
   "metadata": {
    "slideshow": {
     "slide_type": "fragment"
    }
   },
   "outputs": [
    {
     "data": {
      "text/plain": [
       "2.8284271247461903"
      ]
     },
     "execution_count": 2,
     "metadata": {},
     "output_type": "execute_result"
    }
   ],
   "source": [
    "math.sqrt(8)"
   ]
  },
  {
   "cell_type": "markdown",
   "id": "577c3c70",
   "metadata": {
    "slideshow": {
     "slide_type": "fragment"
    }
   },
   "source": [
    "Here we got an approximate result. 2.82842712475 is not the exact square root\n",
    "of 8 (indeed, the actual square root of 8 cannot be represented by a finite\n",
    "decimal, since it is an irrational number). If all we cared about was the\n",
    "decimal form of the square root of 8, we would be done.\n"
   ]
  },
  {
   "cell_type": "markdown",
   "id": "d6fcc824",
   "metadata": {
    "slideshow": {
     "slide_type": "fragment"
    }
   },
   "source": [
    "But suppose we want to go further. Recall that $\\sqrt{8} = \\sqrt{4\\cdot 2} =\n",
    "2\\sqrt{2}$. We would have a hard time deducing this from the above result.\n",
    "This is where symbolic computation comes in. With a symbolic computation\n",
    "system like SymPy, square roots of numbers that are not perfect squares are\n",
    "left unevaluated by default\n"
   ]
  },
  {
   "cell_type": "code",
   "execution_count": 3,
   "id": "d4da145c",
   "metadata": {
    "slideshow": {
     "slide_type": "fragment"
    }
   },
   "outputs": [
    {
<<<<<<< HEAD
     "data": {
      "text/latex": [
       "$\\displaystyle 2 \\sqrt{2}$"
      ],
      "text/plain": [
       "2*sqrt(2)"
      ]
     },
     "execution_count": 3,
     "metadata": {},
     "output_type": "execute_result"
=======
     "ename": "ModuleNotFoundError",
     "evalue": "No module named 'sympy'",
     "output_type": "error",
     "traceback": [
      "\u001b[1;31m---------------------------------------------------------------------------\u001b[0m",
      "\u001b[1;31mModuleNotFoundError\u001b[0m                       Traceback (most recent call last)",
      "Cell \u001b[1;32mIn [3], line 1\u001b[0m\n\u001b[1;32m----> 1\u001b[0m \u001b[38;5;28;01mimport\u001b[39;00m \u001b[38;5;21;01msympy\u001b[39;00m\n\u001b[0;32m      3\u001b[0m sympy\u001b[38;5;241m.\u001b[39msqrt(\u001b[38;5;241m8\u001b[39m)\n",
      "\u001b[1;31mModuleNotFoundError\u001b[0m: No module named 'sympy'"
     ]
>>>>>>> 6705a020b0958f423ff6ce78f503bc970904e6d0
    }
   ],
   "source": [
    "import sympy\n",
    "\n",
    "sympy.sqrt(8)"
   ]
  },
  {
   "cell_type": "markdown",
   "id": "4c3a7da5",
   "metadata": {
    "slideshow": {
     "slide_type": "subslide"
    }
   },
   "source": [
    "## Why Sympy\n",
    "\n",
    "1. It is free and open source, you can even use it as part of something you sell\n",
    "2. SymPy is written entirely in Python, and is executed entirely in Python. Thus it is interoperable\n",
    "3. It is very lightweight to download and install. Other packages might be Gb in size.\n",
    "4. It can be used as a library. There is an Application Programming Interface or API for use with other tools.\n"
   ]
  },
  {
   "cell_type": "markdown",
   "id": "6a86512e",
   "metadata": {
    "slideshow": {
     "slide_type": "fragment"
    }
   },
   "source": [
    "## A more interesting example\n",
    "\n",
    "The above example starts to show how we can manipulate irrational numbers\n",
    "exactly using SymPy. But it is much more powerful than that. Symbolic\n",
    "computation systems (which by the way, are also often called computer algebra\n",
    "systems, or just CASs) such as SymPy are capable of computing symbolic\n",
    "expressions with variables.\n"
   ]
  },
  {
   "cell_type": "markdown",
   "id": "55f044b7",
   "metadata": {
    "slideshow": {
     "slide_type": "fragment"
    }
   },
   "source": [
    "Let us define a symbolic expression, representing the mathematical expression\n"
   ]
  },
  {
   "cell_type": "code",
   "execution_count": 4,
   "id": "7be7c95a",
   "metadata": {
    "slideshow": {
     "slide_type": "fragment"
    }
   },
   "outputs": [
    {
     "data": {
      "text/latex": [
       "$\\displaystyle x + 2 y$"
      ],
      "text/plain": [
       "x + 2*y"
      ]
     },
     "execution_count": 4,
     "metadata": {},
     "output_type": "execute_result"
    }
   ],
   "source": [
    "from sympy import symbols\n",
    "\n",
    "x, y = symbols(\"x y\")\n",
    "expr = x + 2 * y\n",
    "expr"
   ]
  },
  {
   "cell_type": "markdown",
   "id": "f9b55015",
   "metadata": {
    "slideshow": {
     "slide_type": "fragment"
    }
   },
   "source": [
    "Note that we wrote `x + 2*y` just as we would if `x` and `y` were\n",
    "ordinary Python variables. But in this case, instead of evaluating to\n",
    "something, the expression remains as just `x + 2*y`. Now let us play around\n",
    "with it:\n"
   ]
  },
  {
   "cell_type": "code",
   "execution_count": 5,
   "id": "de99cdf2",
   "metadata": {
    "slideshow": {
     "slide_type": "fragment"
    }
   },
   "outputs": [
    {
     "data": {
      "text/latex": [
       "$\\displaystyle x + 2 y + 1$"
      ],
      "text/plain": [
       "x + 2*y + 1"
      ]
     },
     "execution_count": 5,
     "metadata": {},
     "output_type": "execute_result"
    }
   ],
   "source": [
    "expr + 1"
   ]
  },
  {
   "cell_type": "code",
   "execution_count": 6,
   "id": "08946309",
   "metadata": {
    "slideshow": {
     "slide_type": "fragment"
    }
   },
   "outputs": [
    {
     "data": {
      "text/latex": [
       "$\\displaystyle 2 y$"
      ],
      "text/plain": [
       "2*y"
      ]
     },
     "execution_count": 6,
     "metadata": {},
     "output_type": "execute_result"
    }
   ],
   "source": [
    "expr - x"
   ]
  },
  {
   "cell_type": "code",
   "execution_count": 7,
   "id": "de7bd0e9",
   "metadata": {
    "slideshow": {
     "slide_type": "fragment"
    }
   },
   "outputs": [
    {
     "data": {
      "text/latex": [
       "$\\displaystyle x \\left(x + 2 y\\right)$"
      ],
      "text/plain": [
       "x*(x + 2*y)"
      ]
     },
     "execution_count": 7,
     "metadata": {},
     "output_type": "execute_result"
    }
   ],
   "source": [
    "x * expr\n"
   ]
  },
  {
   "cell_type": "markdown",
   "id": "7beacc9b",
   "metadata": {
    "slideshow": {
     "slide_type": "subslide"
    }
   },
   "source": [
    "Notice something in the above example. When we typed `expr`, we did not\n",
    "get $x + 2 y-x$, but rather just $2y$. The `x` and the `-x`\n",
    "automatically canceled one another. This is similar to how `sqrt(8)`\n",
    "automatically turned into `2*sqrt(2)` above. This isn’t always the case in\n",
    "SymPy, however:\n"
   ]
  },
  {
   "cell_type": "code",
   "execution_count": 8,
   "id": "bbe1a155",
   "metadata": {
    "slideshow": {
     "slide_type": "fragment"
    }
   },
   "outputs": [
    {
     "data": {
      "text/latex": [
       "$\\displaystyle x^{2} + 2 x y$"
      ],
      "text/plain": [
       "x**2 + 2*x*y"
      ]
     },
     "execution_count": 8,
     "metadata": {},
     "output_type": "execute_result"
    }
   ],
   "source": [
    "from sympy import expand, factor\n",
    "\n",
    "expanded = expand(x * expr)\n",
    "expanded"
   ]
  },
  {
   "cell_type": "code",
   "execution_count": 9,
   "id": "061794cd",
   "metadata": {
    "slideshow": {
     "slide_type": "fragment"
    }
   },
   "outputs": [
    {
     "data": {
      "text/latex": [
       "$\\displaystyle x \\left(x + 2 y\\right)$"
      ],
      "text/plain": [
       "x*(x + 2*y)"
      ]
     },
     "execution_count": 9,
     "metadata": {},
     "output_type": "execute_result"
    }
   ],
   "source": [
    "factor(expanded)"
   ]
  },
  {
   "cell_type": "markdown",
   "id": "2634b6da",
   "metadata": {
    "slideshow": {
     "slide_type": "fragment"
    }
   },
   "source": [
    "## The Power of Symbolic Computation\n",
    "\n",
    "- The real power of a symbolic computation system such as SymPy is the ability to do all sorts of computations symbolically. SymPy can simplify expressions,\n",
    "  - compute derivatives\n",
    "  - integrals\n",
    "  - limits\n",
    "  - solve equations\n",
    "  - work with matrices\n"
   ]
  },
  {
   "cell_type": "markdown",
   "id": "d5b04a6b",
   "metadata": {
    "slideshow": {
     "slide_type": "fragment"
    }
   },
   "source": [
    "It includes modules for plotting, printing (like 2D pretty printed output of math\n",
    "formulas, or $\\mathrm{\\LaTeX}$, code generation, physics, statistics, combinatorics,\n",
    "number theory, geometry, logic, and more. Here is a small sampling of the sort\n",
    "of symbolic power SymPy is capable of, to whet your appetite.\n"
   ]
  },
  {
   "cell_type": "code",
<<<<<<< HEAD
   "execution_count": 10,
=======
   "execution_count": 6,
>>>>>>> 6705a020b0958f423ff6ce78f503bc970904e6d0
   "id": "00472bac",
   "metadata": {
    "slideshow": {
     "slide_type": "fragment"
    }
   },
   "outputs": [],
   "source": [
    "# * means we import everything from the package\n",
    "from sympy import *\n",
    "\n",
    "# defines multiple symbols at once\n",
    "x, t, z, nu = symbols(\"x t z nu\")\n"
   ]
  },
  {
   "cell_type": "code",
<<<<<<< HEAD
   "execution_count": 11,
=======
   "execution_count": 7,
>>>>>>> 6705a020b0958f423ff6ce78f503bc970904e6d0
   "id": "b5d5cd2d",
   "metadata": {
    "slideshow": {
     "slide_type": "fragment"
    }
   },
   "outputs": [
    {
     "data": {
      "text/plain": [
       "sympy.core.symbol.Symbol"
      ]
     },
<<<<<<< HEAD
     "execution_count": 11,
=======
     "execution_count": 7,
>>>>>>> 6705a020b0958f423ff6ce78f503bc970904e6d0
     "metadata": {},
     "output_type": "execute_result"
    }
   ],
   "source": [
    "# x is now an object of type Symbol\n",
    "type(x)\n"
   ]
  },
  {
   "cell_type": "code",
<<<<<<< HEAD
   "execution_count": 12,
=======
   "execution_count": 8,
>>>>>>> 6705a020b0958f423ff6ce78f503bc970904e6d0
   "id": "d3cb518a",
   "metadata": {
    "slideshow": {
     "slide_type": "fragment"
    }
   },
   "outputs": [],
   "source": [
    "# This will make things look pretty\n",
    "init_printing(use_unicode=True)\n"
   ]
  },
  {
   "cell_type": "markdown",
   "id": "ea7eaebf",
   "metadata": {
    "slideshow": {
     "slide_type": "subslide"
    }
   },
   "source": [
    "### Class Exercise\n",
    "\n",
    "1. _Take_ the derivative of $sin{(x)}e^x$\n",
    "2. Compute $\\int(e^x\\sin{(x)} + e^x\\cos{(x)})\\,dx$\n",
    "3. Compute $\\int_{-\\infty}^\\infty \\sin{(x^2)}\\,dx$\n",
    "4. Find $\\lim_{x\\to 0}\\frac{\\sin{(x)}}{x}$\n",
    "5. Solve $x^2 - 2 = 0$\n",
    "6. Solve the differential equation $y'' - y = e^t$\n"
   ]
  },
  {
   "cell_type": "markdown",
   "id": "5025a07f",
   "metadata": {
    "slideshow": {
     "slide_type": "subslide"
    }
   },
   "source": [
    "1. _Take_ the derivative of $sin{(x)}e^x$\n"
   ]
  },
  {
   "cell_type": "code",
<<<<<<< HEAD
   "execution_count": 13,
=======
   "execution_count": 9,
>>>>>>> 6705a020b0958f423ff6ce78f503bc970904e6d0
   "id": "73449a49",
   "metadata": {
    "slideshow": {
     "slide_type": "fragment"
    }
   },
   "outputs": [],
   "source": [
    "# Type Your Solution Here"
   ]
  },
  {
   "cell_type": "code",
<<<<<<< HEAD
   "execution_count": 14,
=======
   "execution_count": 10,
>>>>>>> 6705a020b0958f423ff6ce78f503bc970904e6d0
   "id": "27506119",
   "metadata": {
    "slideshow": {
     "slide_type": "fragment"
    },
    "tags": [
     "hide-cell"
    ]
   },
<<<<<<< HEAD
   "outputs": [
    {
     "ename": "KeyboardInterrupt",
     "evalue": "",
     "output_type": "error",
     "traceback": [
      "\u001b[1;31m---------------------------------------------------------------------------\u001b[0m",
      "\u001b[1;31mKeyboardInterrupt\u001b[0m                         Traceback (most recent call last)",
      "Cell \u001b[1;32mIn[14], line 1\u001b[0m\n\u001b[1;32m----> 1\u001b[0m diff(sin(x) \u001b[38;5;241m*\u001b[39m exp(x), x)\n",
      "File \u001b[1;32mC:\\ProgramData\\Miniconda3\\envs\\mem680\\lib\\site-packages\\IPython\\core\\displayhook.py:268\u001b[0m, in \u001b[0;36mDisplayHook.__call__\u001b[1;34m(self, result)\u001b[0m\n\u001b[0;32m    266\u001b[0m \u001b[38;5;28mself\u001b[39m\u001b[38;5;241m.\u001b[39mstart_displayhook()\n\u001b[0;32m    267\u001b[0m \u001b[38;5;28mself\u001b[39m\u001b[38;5;241m.\u001b[39mwrite_output_prompt()\n\u001b[1;32m--> 268\u001b[0m format_dict, md_dict \u001b[38;5;241m=\u001b[39m \u001b[38;5;28;43mself\u001b[39;49m\u001b[38;5;241;43m.\u001b[39;49m\u001b[43mcompute_format_data\u001b[49m\u001b[43m(\u001b[49m\u001b[43mresult\u001b[49m\u001b[43m)\u001b[49m\n\u001b[0;32m    269\u001b[0m \u001b[38;5;28mself\u001b[39m\u001b[38;5;241m.\u001b[39mupdate_user_ns(result)\n\u001b[0;32m    270\u001b[0m \u001b[38;5;28mself\u001b[39m\u001b[38;5;241m.\u001b[39mfill_exec_result(result)\n",
      "File \u001b[1;32mC:\\ProgramData\\Miniconda3\\envs\\mem680\\lib\\site-packages\\IPython\\core\\displayhook.py:157\u001b[0m, in \u001b[0;36mDisplayHook.compute_format_data\u001b[1;34m(self, result)\u001b[0m\n\u001b[0;32m    127\u001b[0m \u001b[38;5;28;01mdef\u001b[39;00m \u001b[38;5;21mcompute_format_data\u001b[39m(\u001b[38;5;28mself\u001b[39m, result):\n\u001b[0;32m    128\u001b[0m \u001b[38;5;250m    \u001b[39m\u001b[38;5;124;03m\"\"\"Compute format data of the object to be displayed.\u001b[39;00m\n\u001b[0;32m    129\u001b[0m \n\u001b[0;32m    130\u001b[0m \u001b[38;5;124;03m    The format data is a generalization of the :func:`repr` of an object.\u001b[39;00m\n\u001b[1;32m   (...)\u001b[0m\n\u001b[0;32m    155\u001b[0m \n\u001b[0;32m    156\u001b[0m \u001b[38;5;124;03m    \"\"\"\u001b[39;00m\n\u001b[1;32m--> 157\u001b[0m     \u001b[38;5;28;01mreturn\u001b[39;00m \u001b[38;5;28;43mself\u001b[39;49m\u001b[38;5;241;43m.\u001b[39;49m\u001b[43mshell\u001b[49m\u001b[38;5;241;43m.\u001b[39;49m\u001b[43mdisplay_formatter\u001b[49m\u001b[38;5;241;43m.\u001b[39;49m\u001b[43mformat\u001b[49m\u001b[43m(\u001b[49m\u001b[43mresult\u001b[49m\u001b[43m)\u001b[49m\n",
      "File \u001b[1;32mC:\\ProgramData\\Miniconda3\\envs\\mem680\\lib\\site-packages\\IPython\\core\\formatters.py:179\u001b[0m, in \u001b[0;36mDisplayFormatter.format\u001b[1;34m(self, obj, include, exclude)\u001b[0m\n\u001b[0;32m    177\u001b[0m md \u001b[38;5;241m=\u001b[39m \u001b[38;5;28;01mNone\u001b[39;00m\n\u001b[0;32m    178\u001b[0m \u001b[38;5;28;01mtry\u001b[39;00m:\n\u001b[1;32m--> 179\u001b[0m     data \u001b[38;5;241m=\u001b[39m \u001b[43mformatter\u001b[49m\u001b[43m(\u001b[49m\u001b[43mobj\u001b[49m\u001b[43m)\u001b[49m\n\u001b[0;32m    180\u001b[0m \u001b[38;5;28;01mexcept\u001b[39;00m:\n\u001b[0;32m    181\u001b[0m     \u001b[38;5;66;03m# FIXME: log the exception\u001b[39;00m\n\u001b[0;32m    182\u001b[0m     \u001b[38;5;28;01mraise\u001b[39;00m\n",
      "File \u001b[1;32mC:\\ProgramData\\Miniconda3\\envs\\mem680\\lib\\site-packages\\decorator.py:232\u001b[0m, in \u001b[0;36mdecorate.<locals>.fun\u001b[1;34m(*args, **kw)\u001b[0m\n\u001b[0;32m    230\u001b[0m \u001b[38;5;28;01mif\u001b[39;00m \u001b[38;5;129;01mnot\u001b[39;00m kwsyntax:\n\u001b[0;32m    231\u001b[0m     args, kw \u001b[38;5;241m=\u001b[39m fix(args, kw, sig)\n\u001b[1;32m--> 232\u001b[0m \u001b[38;5;28;01mreturn\u001b[39;00m caller(func, \u001b[38;5;241m*\u001b[39m(extras \u001b[38;5;241m+\u001b[39m args), \u001b[38;5;241m*\u001b[39m\u001b[38;5;241m*\u001b[39mkw)\n",
      "File \u001b[1;32mC:\\ProgramData\\Miniconda3\\envs\\mem680\\lib\\site-packages\\IPython\\core\\formatters.py:223\u001b[0m, in \u001b[0;36mcatch_format_error\u001b[1;34m(method, self, *args, **kwargs)\u001b[0m\n\u001b[0;32m    221\u001b[0m \u001b[38;5;250m\u001b[39m\u001b[38;5;124;03m\"\"\"show traceback on failed format call\"\"\"\u001b[39;00m\n\u001b[0;32m    222\u001b[0m \u001b[38;5;28;01mtry\u001b[39;00m:\n\u001b[1;32m--> 223\u001b[0m     r \u001b[38;5;241m=\u001b[39m method(\u001b[38;5;28mself\u001b[39m, \u001b[38;5;241m*\u001b[39margs, \u001b[38;5;241m*\u001b[39m\u001b[38;5;241m*\u001b[39mkwargs)\n\u001b[0;32m    224\u001b[0m \u001b[38;5;28;01mexcept\u001b[39;00m \u001b[38;5;167;01mNotImplementedError\u001b[39;00m:\n\u001b[0;32m    225\u001b[0m     \u001b[38;5;66;03m# don't warn on NotImplementedErrors\u001b[39;00m\n\u001b[0;32m    226\u001b[0m     \u001b[38;5;28;01mreturn\u001b[39;00m \u001b[38;5;28mself\u001b[39m\u001b[38;5;241m.\u001b[39m_check_return(\u001b[38;5;28;01mNone\u001b[39;00m, args[\u001b[38;5;241m0\u001b[39m])\n",
      "File \u001b[1;32mC:\\ProgramData\\Miniconda3\\envs\\mem680\\lib\\site-packages\\IPython\\core\\formatters.py:344\u001b[0m, in \u001b[0;36mBaseFormatter.__call__\u001b[1;34m(self, obj)\u001b[0m\n\u001b[0;32m    342\u001b[0m     method \u001b[38;5;241m=\u001b[39m get_real_method(obj, \u001b[38;5;28mself\u001b[39m\u001b[38;5;241m.\u001b[39mprint_method)\n\u001b[0;32m    343\u001b[0m     \u001b[38;5;28;01mif\u001b[39;00m method \u001b[38;5;129;01mis\u001b[39;00m \u001b[38;5;129;01mnot\u001b[39;00m \u001b[38;5;28;01mNone\u001b[39;00m:\n\u001b[1;32m--> 344\u001b[0m         \u001b[38;5;28;01mreturn\u001b[39;00m \u001b[43mmethod\u001b[49m\u001b[43m(\u001b[49m\u001b[43m)\u001b[49m\n\u001b[0;32m    345\u001b[0m     \u001b[38;5;28;01mreturn\u001b[39;00m \u001b[38;5;28;01mNone\u001b[39;00m\n\u001b[0;32m    346\u001b[0m \u001b[38;5;28;01melse\u001b[39;00m:\n",
      "File \u001b[1;32mC:\\ProgramData\\Miniconda3\\envs\\mem680\\lib\\site-packages\\sympy\\interactive\\printing.py:178\u001b[0m, in \u001b[0;36m_init_ipython_printing.<locals>._print_latex_png\u001b[1;34m(o)\u001b[0m\n\u001b[0;32m    176\u001b[0m     s \u001b[38;5;241m=\u001b[39m \u001b[38;5;124m'\u001b[39m\u001b[38;5;124m$\u001b[39m\u001b[38;5;130;01m\\\\\u001b[39;00m\u001b[38;5;124mdisplaystyle \u001b[39m\u001b[38;5;132;01m%s\u001b[39;00m\u001b[38;5;124m$\u001b[39m\u001b[38;5;124m'\u001b[39m \u001b[38;5;241m%\u001b[39m s\n\u001b[0;32m    177\u001b[0m \u001b[38;5;28;01mtry\u001b[39;00m:\n\u001b[1;32m--> 178\u001b[0m     \u001b[38;5;28;01mreturn\u001b[39;00m \u001b[43m_preview_wrapper\u001b[49m\u001b[43m(\u001b[49m\u001b[43ms\u001b[49m\u001b[43m)\u001b[49m\n\u001b[0;32m    179\u001b[0m \u001b[38;5;28;01mexcept\u001b[39;00m \u001b[38;5;167;01mRuntimeError\u001b[39;00m \u001b[38;5;28;01mas\u001b[39;00m e:\n\u001b[0;32m    180\u001b[0m     debug(\u001b[38;5;124m'\u001b[39m\u001b[38;5;124mpreview failed with:\u001b[39m\u001b[38;5;124m'\u001b[39m, \u001b[38;5;28mrepr\u001b[39m(e),\n\u001b[0;32m    181\u001b[0m           \u001b[38;5;124m'\u001b[39m\u001b[38;5;124m Falling back to matplotlib backend\u001b[39m\u001b[38;5;124m'\u001b[39m)\n",
      "File \u001b[1;32mC:\\ProgramData\\Miniconda3\\envs\\mem680\\lib\\site-packages\\sympy\\interactive\\printing.py:89\u001b[0m, in \u001b[0;36m_init_ipython_printing.<locals>._preview_wrapper\u001b[1;34m(o)\u001b[0m\n\u001b[0;32m     87\u001b[0m exprbuffer \u001b[38;5;241m=\u001b[39m BytesIO()\n\u001b[0;32m     88\u001b[0m \u001b[38;5;28;01mtry\u001b[39;00m:\n\u001b[1;32m---> 89\u001b[0m     \u001b[43mpreview\u001b[49m\u001b[43m(\u001b[49m\u001b[43mo\u001b[49m\u001b[43m,\u001b[49m\u001b[43m \u001b[49m\u001b[43moutput\u001b[49m\u001b[38;5;241;43m=\u001b[39;49m\u001b[38;5;124;43m'\u001b[39;49m\u001b[38;5;124;43mpng\u001b[39;49m\u001b[38;5;124;43m'\u001b[39;49m\u001b[43m,\u001b[49m\u001b[43m \u001b[49m\u001b[43mviewer\u001b[49m\u001b[38;5;241;43m=\u001b[39;49m\u001b[38;5;124;43m'\u001b[39;49m\u001b[38;5;124;43mBytesIO\u001b[39;49m\u001b[38;5;124;43m'\u001b[39;49m\u001b[43m,\u001b[49m\u001b[43m \u001b[49m\u001b[43meuler\u001b[49m\u001b[38;5;241;43m=\u001b[39;49m\u001b[43meuler\u001b[49m\u001b[43m,\u001b[49m\n\u001b[0;32m     90\u001b[0m \u001b[43m            \u001b[49m\u001b[43moutputbuffer\u001b[49m\u001b[38;5;241;43m=\u001b[39;49m\u001b[43mexprbuffer\u001b[49m\u001b[43m,\u001b[49m\u001b[43m \u001b[49m\u001b[43mextra_preamble\u001b[49m\u001b[38;5;241;43m=\u001b[39;49m\u001b[43mextra_preamble\u001b[49m\u001b[43m,\u001b[49m\n\u001b[0;32m     91\u001b[0m \u001b[43m            \u001b[49m\u001b[43mdvioptions\u001b[49m\u001b[38;5;241;43m=\u001b[39;49m\u001b[43mdvioptions\u001b[49m\u001b[43m,\u001b[49m\u001b[43m \u001b[49m\u001b[43mfontsize\u001b[49m\u001b[38;5;241;43m=\u001b[39;49m\u001b[43mfontsize\u001b[49m\u001b[43m)\u001b[49m\n\u001b[0;32m     92\u001b[0m \u001b[38;5;28;01mexcept\u001b[39;00m \u001b[38;5;167;01mException\u001b[39;00m \u001b[38;5;28;01mas\u001b[39;00m e:\n\u001b[0;32m     93\u001b[0m     \u001b[38;5;66;03m# IPython swallows exceptions\u001b[39;00m\n\u001b[0;32m     94\u001b[0m     debug(\u001b[38;5;124m\"\u001b[39m\u001b[38;5;124mpng printing:\u001b[39m\u001b[38;5;124m\"\u001b[39m, \u001b[38;5;124m\"\u001b[39m\u001b[38;5;124m_preview_wrapper exception raised:\u001b[39m\u001b[38;5;124m\"\u001b[39m,\n\u001b[0;32m     95\u001b[0m           \u001b[38;5;28mrepr\u001b[39m(e))\n",
      "File \u001b[1;32mC:\\ProgramData\\Miniconda3\\envs\\mem680\\lib\\site-packages\\sympy\\printing\\preview.py:369\u001b[0m, in \u001b[0;36mpreview\u001b[1;34m(expr, output, viewer, euler, packages, filename, outputbuffer, preamble, dvioptions, outputTexFile, extra_preamble, fontsize, **latex_settings)\u001b[0m\n\u001b[0;32m    366\u001b[0m cmd\u001b[38;5;241m.\u001b[39mextend(commandend[cmd_variant])\n\u001b[0;32m    368\u001b[0m \u001b[38;5;28;01mtry\u001b[39;00m:\n\u001b[1;32m--> 369\u001b[0m     \u001b[43m_check_output_no_window\u001b[49m\u001b[43m(\u001b[49m\u001b[43mcmd\u001b[49m\u001b[43m,\u001b[49m\u001b[43m \u001b[49m\u001b[43mcwd\u001b[49m\u001b[38;5;241;43m=\u001b[39;49m\u001b[43mworkdir\u001b[49m\u001b[43m,\u001b[49m\u001b[43m \u001b[49m\u001b[43mstderr\u001b[49m\u001b[38;5;241;43m=\u001b[39;49m\u001b[43mSTDOUT\u001b[49m\u001b[43m)\u001b[49m\n\u001b[0;32m    370\u001b[0m \u001b[38;5;28;01mexcept\u001b[39;00m CalledProcessError \u001b[38;5;28;01mas\u001b[39;00m e:\n\u001b[0;32m    371\u001b[0m     \u001b[38;5;28;01mraise\u001b[39;00m \u001b[38;5;167;01mRuntimeError\u001b[39;00m(\n\u001b[0;32m    372\u001b[0m         \u001b[38;5;124m\"\u001b[39m\u001b[38;5;124m'\u001b[39m\u001b[38;5;132;01m%s\u001b[39;00m\u001b[38;5;124m'\u001b[39m\u001b[38;5;124m exited abnormally with the following output:\u001b[39m\u001b[38;5;130;01m\\n\u001b[39;00m\u001b[38;5;132;01m%s\u001b[39;00m\u001b[38;5;124m\"\u001b[39m \u001b[38;5;241m%\u001b[39m\n\u001b[0;32m    373\u001b[0m         (\u001b[38;5;124m'\u001b[39m\u001b[38;5;124m \u001b[39m\u001b[38;5;124m'\u001b[39m\u001b[38;5;241m.\u001b[39mjoin(cmd), e\u001b[38;5;241m.\u001b[39moutput))\n",
      "File \u001b[1;32mC:\\ProgramData\\Miniconda3\\envs\\mem680\\lib\\site-packages\\sympy\\printing\\preview.py:25\u001b[0m, in \u001b[0;36m_check_output_no_window\u001b[1;34m(*args, **kwargs)\u001b[0m\n\u001b[0;32m     23\u001b[0m \u001b[38;5;28;01melse\u001b[39;00m:\n\u001b[0;32m     24\u001b[0m     creation_flag \u001b[38;5;241m=\u001b[39m \u001b[38;5;241m0\u001b[39m \u001b[38;5;66;03m# Default value\u001b[39;00m\n\u001b[1;32m---> 25\u001b[0m \u001b[38;5;28;01mreturn\u001b[39;00m check_output(\u001b[38;5;241m*\u001b[39margs, creationflags\u001b[38;5;241m=\u001b[39mcreation_flag, \u001b[38;5;241m*\u001b[39m\u001b[38;5;241m*\u001b[39mkwargs)\n",
      "File \u001b[1;32mC:\\ProgramData\\Miniconda3\\envs\\mem680\\lib\\subprocess.py:420\u001b[0m, in \u001b[0;36mcheck_output\u001b[1;34m(timeout, *popenargs, **kwargs)\u001b[0m\n\u001b[0;32m    417\u001b[0m         empty \u001b[38;5;241m=\u001b[39m \u001b[38;5;124mb\u001b[39m\u001b[38;5;124m'\u001b[39m\u001b[38;5;124m'\u001b[39m\n\u001b[0;32m    418\u001b[0m     kwargs[\u001b[38;5;124m'\u001b[39m\u001b[38;5;124minput\u001b[39m\u001b[38;5;124m'\u001b[39m] \u001b[38;5;241m=\u001b[39m empty\n\u001b[1;32m--> 420\u001b[0m \u001b[38;5;28;01mreturn\u001b[39;00m run(\u001b[38;5;241m*\u001b[39mpopenargs, stdout\u001b[38;5;241m=\u001b[39mPIPE, timeout\u001b[38;5;241m=\u001b[39mtimeout, check\u001b[38;5;241m=\u001b[39m\u001b[38;5;28;01mTrue\u001b[39;00m,\n\u001b[0;32m    421\u001b[0m            \u001b[38;5;241m*\u001b[39m\u001b[38;5;241m*\u001b[39mkwargs)\u001b[38;5;241m.\u001b[39mstdout\n",
      "File \u001b[1;32mC:\\ProgramData\\Miniconda3\\envs\\mem680\\lib\\subprocess.py:503\u001b[0m, in \u001b[0;36mrun\u001b[1;34m(input, capture_output, timeout, check, *popenargs, **kwargs)\u001b[0m\n\u001b[0;32m    501\u001b[0m \u001b[38;5;28;01mwith\u001b[39;00m Popen(\u001b[38;5;241m*\u001b[39mpopenargs, \u001b[38;5;241m*\u001b[39m\u001b[38;5;241m*\u001b[39mkwargs) \u001b[38;5;28;01mas\u001b[39;00m process:\n\u001b[0;32m    502\u001b[0m     \u001b[38;5;28;01mtry\u001b[39;00m:\n\u001b[1;32m--> 503\u001b[0m         stdout, stderr \u001b[38;5;241m=\u001b[39m \u001b[43mprocess\u001b[49m\u001b[38;5;241;43m.\u001b[39;49m\u001b[43mcommunicate\u001b[49m\u001b[43m(\u001b[49m\u001b[38;5;28;43minput\u001b[39;49m\u001b[43m,\u001b[49m\u001b[43m \u001b[49m\u001b[43mtimeout\u001b[49m\u001b[38;5;241;43m=\u001b[39;49m\u001b[43mtimeout\u001b[49m\u001b[43m)\u001b[49m\n\u001b[0;32m    504\u001b[0m     \u001b[38;5;28;01mexcept\u001b[39;00m TimeoutExpired \u001b[38;5;28;01mas\u001b[39;00m exc:\n\u001b[0;32m    505\u001b[0m         process\u001b[38;5;241m.\u001b[39mkill()\n",
      "File \u001b[1;32mC:\\ProgramData\\Miniconda3\\envs\\mem680\\lib\\subprocess.py:1136\u001b[0m, in \u001b[0;36mPopen.communicate\u001b[1;34m(self, input, timeout)\u001b[0m\n\u001b[0;32m   1134\u001b[0m     \u001b[38;5;28mself\u001b[39m\u001b[38;5;241m.\u001b[39m_stdin_write(\u001b[38;5;28minput\u001b[39m)\n\u001b[0;32m   1135\u001b[0m \u001b[38;5;28;01melif\u001b[39;00m \u001b[38;5;28mself\u001b[39m\u001b[38;5;241m.\u001b[39mstdout:\n\u001b[1;32m-> 1136\u001b[0m     stdout \u001b[38;5;241m=\u001b[39m \u001b[38;5;28;43mself\u001b[39;49m\u001b[38;5;241;43m.\u001b[39;49m\u001b[43mstdout\u001b[49m\u001b[38;5;241;43m.\u001b[39;49m\u001b[43mread\u001b[49m\u001b[43m(\u001b[49m\u001b[43m)\u001b[49m\n\u001b[0;32m   1137\u001b[0m     \u001b[38;5;28mself\u001b[39m\u001b[38;5;241m.\u001b[39mstdout\u001b[38;5;241m.\u001b[39mclose()\n\u001b[0;32m   1138\u001b[0m \u001b[38;5;28;01melif\u001b[39;00m \u001b[38;5;28mself\u001b[39m\u001b[38;5;241m.\u001b[39mstderr:\n",
      "\u001b[1;31mKeyboardInterrupt\u001b[0m: "
     ]
    }
   ],
=======
   "outputs": [],
>>>>>>> 6705a020b0958f423ff6ce78f503bc970904e6d0
   "source": [
    "diff(sin(x) * exp(x), x)\n"
   ]
  },
  {
   "cell_type": "markdown",
   "id": "5e6833c9",
   "metadata": {
    "slideshow": {
     "slide_type": "subslide"
    }
   },
   "source": [
    "2. Compute $\\int(e^x\\sin{(x)} + e^x\\cos{(x)})\\,dx$\n"
   ]
  },
  {
   "cell_type": "code",
   "execution_count": null,
   "id": "a723aecc",
   "metadata": {
    "slideshow": {
     "slide_type": "fragment"
    }
   },
   "outputs": [],
   "source": [
    "# Type Your Solution Here"
   ]
  },
  {
   "cell_type": "code",
   "execution_count": null,
   "id": "63293a9c",
   "metadata": {
    "slideshow": {
     "slide_type": "fragment"
    },
    "tags": [
     "hide-cell"
    ]
   },
   "outputs": [],
   "source": [
    "integrate(exp(x) * sin(x) + exp(x) * cos(x), x)\n"
   ]
  },
  {
   "cell_type": "markdown",
   "id": "e5c01611",
   "metadata": {
    "slideshow": {
     "slide_type": "subslide"
    }
   },
   "source": [
    "3. Compute $\\int_{-\\infty}^\\infty \\sin{(x^2)}\\,dx$\n"
   ]
  },
  {
   "cell_type": "code",
   "execution_count": null,
   "id": "d2de9f9d",
   "metadata": {
    "slideshow": {
     "slide_type": "fragment"
    }
   },
   "outputs": [],
   "source": [
    "# Type Your Solution Here"
   ]
  },
  {
   "cell_type": "code",
   "execution_count": null,
   "id": "bdb1eed0",
   "metadata": {
    "slideshow": {
     "slide_type": "fragment"
    },
    "tags": [
     "hide-cell"
    ]
   },
   "outputs": [
    {
     "data": {
      "image/png": "iVBORw0KGgoAAAANSUhEUgAAADoAAAAuCAYAAAB5/AqlAAAACXBIWXMAAA7EAAAOxAGVKw4bAAAER0lEQVRoBe2a7VHcMBCG7zIpgKSEowM+KgjpACYdcB2EyS/4l0k6ACpIQgehgwQ6gBIydEDeRyd5ZEu2JVs2zIBmhKTVandf7WrPtlg+Pj4uxpSzs7Mdrf+k+jlVjtYsU3lL8b0tIOibZJzI+JMCsiYTMQqo9eZC7e1kFjYEW503DXLvcBRQSf+iikfnLOjbzd3cwUClaCWFK7XXPkpLd2G8p7l/qoT2aK9LBvlgMUTWYKAYbyu6TZEBgD9X+9GSMAoP3EBTrW2K48loB0fQmwwlFasM3tJgL2I4oNYVozriYUMeVH/59Ny+5EQjKFXOIKASDqCvESUHot3JKDbCL3hyyxrr03P6QQTlLM4GakEcqL2KKALQvebwYKw0NyDGE9CszlgEBbxthCFntPWcyKCjFkWDk4iVF40g6YN+rNq1gRfiW9eAinCoRQ9qu5LGoea3rQG9jXgByflymbh3jc+g9YAggppnH5AUNheefdUfqmR6xgaD1plsXwEVgUc4vHWvuqsaFMtzHkx0E0hCV1r7vZutdTaIIMli8/6oNcfH2aWWY0OeuFZb+zkzZ1REFl7YumPHGgZlrblkg8XLpqA8GtKiEx0Y1lXgwbaqaHyr6ucIfrpwEAXPur4h8McBZeGDxi6Tsou1onnOQrI3Lf97tdVvqi9QdCLoUtWFoD9t+panU6d4cBK2u4Kj/LGhG6COwzKwe+ziytFtyxmr7WxjvhpqLWd9W23lSeQ5mWpLRhBn93elfJMPvOGmWwNqZ90OV8lDhmE45yzYqaZEC2JfbbXe8iCDx8GF5opEkORsSRyR9hO5rogeHIcAqJiIbzLWsRXEekLZhTXjaBE/UUDy4eGAR8Gqisb5rm2UHY+JIEDGfreD41JlXS3wC15lVwAL8L9NI31mr08IARYDmqWWBb1JdMFPBJifEOlKjSAANSPHT1Ka3pRl2xcGKeOdD6MBemQBb1YV/ivZbBAb+059fsfR/YF+KVVB6HqCCVXOAKERpGuPr0TX5QUiCG+mRlCy7lagUkgIEG7N0EgWnsooXeQEdJELqA64umVK2xk10mVA9AmpjOpAChFEIpskglo9GpgxMWHqCGpNRhPjml38s/Ho1MhfDNDl6enpuE/1U7uikPzXM1poI5+NmBdzRl+BPpuYK2RI5yNgIR1GjJ58Vuq45+Y99XkJL3InYxT0/Jkl61qQsTsZvhuVuJPpgWk/jvVyjWfgbcS8VDtRAo93ed8cdSfj5PW1cyUjXqqnupPpw2jm5wLK+2bs244zkhf8ScssZ7QNgcL3TnN8Bp38nzfm8miAVeD4tutn4oCnJOHJgArE2DuZrH14ktCVN7lmIGSD769Z1mcwz+5RgeMbbuudTIbtWayzAhVIPmW23slkWZ7JPBtQgST5dN7JZNqexT7LGRXIlazia7y5hW5YyG128g16Y23ycK6H+iF3MskgUhj/A8zGmJ7B12wmAAAAAElFTkSuQmCC",
      "text/latex": [
       "$\\displaystyle \\frac{\\sqrt{2} \\sqrt{\\pi}}{2}$"
      ],
      "text/plain": [
       "√2⋅√π\n",
       "─────\n",
       "  2  "
      ]
     },
     "execution_count": 22,
     "metadata": {},
     "output_type": "execute_result"
    }
   ],
   "source": [
    "integrate(sin(x**2), (x, -oo, oo))"
   ]
  },
  {
   "cell_type": "markdown",
   "id": "c2885f11",
   "metadata": {
    "slideshow": {
     "slide_type": "subslide"
    }
   },
   "source": [
    "4. Find $\\lim_{x\\to 0}\\frac{\\sin{(x)}}{x}$\n"
   ]
  },
  {
   "cell_type": "code",
   "execution_count": null,
   "id": "43007b58",
   "metadata": {
    "slideshow": {
     "slide_type": "fragment"
    }
   },
   "outputs": [],
   "source": [
    "# Type Your Solution Here"
   ]
  },
  {
   "cell_type": "code",
   "execution_count": null,
   "id": "73f34854",
   "metadata": {
    "slideshow": {
     "slide_type": "fragment"
    },
    "tags": [
     "hide-cell"
    ]
   },
   "outputs": [
    {
     "data": {
      "image/png": "iVBORw0KGgoAAAANSUhEUgAAAAgAAAAOCAYAAAASVl2WAAAACXBIWXMAAA7EAAAOxAGVKw4bAAAAZElEQVQYGWP8//8/Aww0NDQYAdmrgdgYyP4AEmcBMgSA9GwgfgfEJkCsBMRwAFIAUhkKEgGyy4AUyBQ4YIKzcDBGFUACBj0chKHhJQQLN0ZQZAGDGBRBIOACxKC4OQfE94B4NwDm+hiAOyllRAAAAABJRU5ErkJggg==",
      "text/latex": [
       "$\\displaystyle 1$"
      ],
      "text/plain": [
       "1"
      ]
     },
     "execution_count": 24,
     "metadata": {},
     "output_type": "execute_result"
    }
   ],
   "source": [
    "limit(sin(x) / x, x, 0)\n"
   ]
  },
  {
   "cell_type": "markdown",
   "id": "662c5aa2",
   "metadata": {
    "slideshow": {
     "slide_type": "subslide"
    }
   },
   "source": [
    "5. Solve $x^2 - 2 = 0$\n"
   ]
  },
  {
   "cell_type": "code",
   "execution_count": null,
   "id": "1ae98642",
   "metadata": {
    "slideshow": {
     "slide_type": "fragment"
    }
   },
   "outputs": [],
   "source": [
    "# Type Your Solution Here"
   ]
  },
  {
   "cell_type": "code",
   "execution_count": null,
   "id": "37f057c7",
   "metadata": {
    "slideshow": {
     "slide_type": "fragment"
    },
    "tags": [
     "hide-cell"
    ]
   },
   "outputs": [
    {
     "data": {
      "image/png": "iVBORw0KGgoAAAANSUhEUgAAAGMAAAAlCAYAAABWOlfkAAAACXBIWXMAAA7EAAAOxAGVKw4bAAADa0lEQVRoBe2b4VEbMRCF7UwKIOkg0AGQDpwOYOgAOgiTX/a/TNKB0wJ0ENIB0EHoIIEOkvcxuoss3110trR3ZrQzGsnSWrv3nnb37gzT+Xx+MplMrtR8uVgsFt/8iTJOh4CwXWq382DHN1NHxpkUToPF8tEIAWH/KFPvXhnZK2YiEChkRIBkpVLIsEI6ws7rCJ1BVJRHD2X4Lta49Kexujn0Uvg7WjIE2Be1I13kfQ7wMuy5tb+jTFPulE12hYhU/o6SDJ3aT2qctF2RJP6Ojgydsn0xsK/+ZheYSOnvGGvGpUig1eIuuJo71sJvtUvNj6GeJPN3VGQI3D2BfKz+omLCEbFU/8GbI4XdMac2WATJdlJ/x5amAPlzBbrrmavJYU4gcBqf1MJ3aixbSlJ/R0OGO2Uz9dcBmjN9/unW/SUiYk/z1BhzyeHvaMgQmm13JID+oIsnEpqEVDGEJPfXpGYISF7TP6nvyu8nWj8IUdVc29tkntAnWk9exLXnIP5mJ0MX9lGYcYoe1I7U1sTpLNcWWiakDxGkp+oOq0Wz//SQ/mZNUw40fqSiHbrPTQjxY9bXpoWWOQr3dc/vtGz1b3pofzsjQ86Rj3+o9cnLp/rec+rweu6QqghZSTvS4RevPlGBLjVkZR/NbS1D+/s/Miiajamlz5XrIqkXRMe5ep6uSVmVkGqibOh7EPdWff3MUW2Sstf+g/ibNU0FAHFPjtR5XhdNoSTdQHqnON0D9XVEaAyx1I4cYu6vGRkCjWjgboroqNIehT18yFsDVvoU7PfqayKdEmTyaqQWb+96bpOB9jHx1/etM035ionGnLaZGoRwsbfqO6NC65x8CvaNxmFt4SGxLvwaQ/Kj+nu1qNQn/S7J6m9o2CwyMCyAiAyKOxFBq1KBhq3yXSsQQr0I2wqR2p/PkMyTOcRsJbn9DZ2zjgzsk5Y46dwRAVynSGftQbDrC+irkb5SSVZ/fSdNIwPDAop3T0RHmP9ZTiXUl5Wo2XRjI3+f3RsiMiAkRT5vxFd7k55+NS5uOJnTX98l88jwjWcac3NQF/VMNrJs++LI2FUiYPfFkZHlyBptWsgwAjrGTCEjBiUjnUKGEdAxZgoZMSgZ6RQyjICOMVPIiEHJSKd6AuePAf54Nsv/9HlgpB4Ka94+89JzRf4COMGPgdTQUmMAAAAASUVORK5CYII=",
      "text/latex": [
       "$\\displaystyle \\left[ - \\sqrt{2}, \\  \\sqrt{2}\\right]$"
      ],
      "text/plain": [
       "[-√2, √2]"
      ]
     },
     "execution_count": 26,
     "metadata": {},
     "output_type": "execute_result"
    }
   ],
   "source": [
    "solve(x**2 - 2, x)"
   ]
  },
  {
   "cell_type": "markdown",
   "id": "c030c07e",
   "metadata": {
    "slideshow": {
     "slide_type": "subslide"
    }
   },
   "source": [
    "6. Solve the differential equation $y'' - y = e^t$\n"
   ]
  },
  {
   "cell_type": "code",
   "execution_count": null,
   "id": "811d1d1e",
   "metadata": {
    "slideshow": {
     "slide_type": "fragment"
    }
   },
   "outputs": [],
   "source": [
    "# Type Your Solution Here"
   ]
  },
  {
   "cell_type": "code",
   "execution_count": null,
   "id": "2e49e239",
   "metadata": {
    "slideshow": {
     "slide_type": "fragment"
    },
    "tags": [
     "hide-cell"
    ]
   },
   "outputs": [
    {
     "data": {
      "image/png": "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",
      "text/latex": [
       "$\\displaystyle y{\\left(t \\right)} = C_{2} e^{- t} + \\left(C_{1} + \\frac{t}{2}\\right) e^{t}$"
      ],
      "text/plain": [
       "           -t   ⎛     t⎞  t\n",
       "y(t) = C₂⋅ℯ   + ⎜C₁ + ─⎟⋅ℯ \n",
       "                ⎝     2⎠   "
      ]
     },
     "execution_count": 28,
     "metadata": {},
     "output_type": "execute_result"
    }
   ],
   "source": [
    "y = Function(\"y\")\n",
    "dsolve(Eq(y(t).diff(t, t) - y(t), exp(t)), y(t))\n"
   ]
  },
  {
   "cell_type": "markdown",
   "id": "38a68295",
   "metadata": {
    "slideshow": {
     "slide_type": "subslide"
    }
   },
   "source": [
    "Print $\\int_{0}^{\\pi} \\cos^{2}{\\left (x \\right )}\\, dx$ in $\\mathrm{\\LaTeX}$\n"
   ]
  },
  {
   "cell_type": "code",
   "execution_count": null,
   "id": "08b55b33",
   "metadata": {
    "slideshow": {
     "slide_type": "fragment"
    }
   },
   "outputs": [
    {
     "data": {
      "text/plain": [
       "'\\\\int\\\\limits_{0}^{\\\\pi} \\\\cos^{2}{\\\\left(x \\\\right)}\\\\, dx'"
      ]
     },
     "execution_count": 30,
     "metadata": {},
     "output_type": "execute_result"
    }
   ],
   "source": [
    "latex(Integral(cos(x) ** 2, (x, 0, pi)))\n"
   ]
  },
  {
   "cell_type": "markdown",
   "id": "1d74673a",
   "metadata": {
    "slideshow": {
     "slide_type": "slide"
    }
   },
   "source": [
    "## Series Expansion\n",
    "\n",
    "SymPy can compute asymptotic series expansions of functions around a point. To\n",
    "compute the expansion of $f(x)$ around the point $x = x_0$ terms of order\n",
    "$x^n$ use `f(x).series(x,x0,n)`.`x0` and `n` can be omitted, in\n",
    "which case the defaults `x0=0` and `n=6` will be used.\n"
   ]
  },
  {
   "cell_type": "code",
   "execution_count": null,
   "id": "43ce0905",
   "metadata": {
    "slideshow": {
     "slide_type": "fragment"
    }
   },
   "outputs": [
    {
     "data": {
      "image/png": "iVBORw0KGgoAAAANSUhEUgAAALUAAAAuCAYAAABu8lgpAAAACXBIWXMAAA7EAAAOxAGVKw4bAAAHqklEQVR4Ae2d7XXVOBCGE04KCNkOLh1AqGBDB4GtgNDBcvIv/zjQAaECFjoIWwEhHUAJ2dtB9n0cyUd2bNm+khyTO3OOou+R9Go0Gsm6sHtzc7NjVAaBs7OzfXE+ddxXzn+t9HWZFo0rCOwZDEUReC8BfuNbUPijwj/knvg08/Mj8Cg/S+MYIHAiQT4K4u8VXintaZBmwcwImFBnBrTFDi192UqzaGEEds2mLoxwwF4aGk19LN/MjwCX3EHT1LkR7eHnTI5jZT/rKWLJmRAwoc4EZIyNBHqlfLT0M4Xt5iMGVoY8u/3IAGKMhRPot/JfUM7F8X/F6lne5giYTb05doM1nQBzjfc2KMzhESE3jR2AkjNomnoimhJGPqicuGrP5b+Ww7z4y6V9V5mvLsydNOXxa1J+fXddJ1ogGwIm1NOhrD+oSDj/VvVPcggy2hetjO1cCbXijxU2mhkBE+oJgEtI0dAIrSdMCG400NbQgVyYXyXan3kRMKGehvelBDs84HE9d6W0yj6W/3IaOytdAgG70puAqoT2qlX8leKfW2kWLYCAsG+cS2JNmFDH0InkCeQjZXMI9IfCHaXt4yLVtiZLOLTfvWw8dvHi7HLnvYzSOcPcIRPqO5B0JyCschdyCDPEDcZa8dAcOVW8MkWqElv6RxhUX07lf0uFQDzAO8Q4ZMmh/SJMIGxC3UakPw64uGsBiTa+Dos68L+HadsYdtiwuJOvLR0vNHTn4lA+wv5FPpq8JhPqGorBAMCeyyHYJ27SePD/UY5bETR5bYoovq30RQPvNAs2AAScP8TqKZ85eSO/Nvv2wgrKYFXQKXujEAKjsLDBrGhoH6UhxL+9IGscCAQLk9eDjBNayWFuITSjSGWpcyi/ehIwqlJPIfHAhBmLLYuI7wXV7dOeKjMgEthOD+XomNGWIKD5516d3Yddp6EVFWdrRwuOfVnIc4DRi6APYrWHDB7I77Ol21VpE/ua3XLdePuhBGwTBvmYzHbNsXHVBSR+4ZE8wLFtDpVbYp+G+hzLTx2P6qPM/pXjjNCrWZX3n8qcyw/fr3R2TWX4wesL+Z02cGeljkTVx2Lwzw4oQV/ZSVh04TMERW9JdbjywxQ8b5gfvkAGn07glkRL7FMKPqnjQaDRbENaGAFF2UWF2gki47nkTwqJF98D6m8CiqO5Eep3Cq97eNMu5sf5o54ClvyAEZBgsBujDRtnhJ4hVyaA6lA+RuzOvyJCF6vbmyd+CDP9hTAxsLW76KcSMZ+X+WtydRwtxGCgoZdwt6Xs7ygEhC1aD83L5/0xZgJzAR3cer1/mac+LVpV2mReVQcTdowZi2Zn59lfqqZmRX7AqaPc/XKQPVKcLRCQ/cpV0GgiAl47fx5ZDw0MDR3amBcuG2JUcl5926vFCbUEN9xuAIjVz5bjVysaw4RaIGxIfvsevC7TXCCoaPa1wkNCzbwwV500w7z6tg+SDorqKPeDfiWHg6m2KuV7rRDmse1V94lhYhBOeglXqE874lvkn7IS391g7HeCBcaDkDKeISGlmDcBvUIhrY9YAF5bdpVJmtcuhq20uu1Uoe4SWgBDG3Cl17j3bHWiM6o6V62MV4q/a6X1RlU/e59oTHyjwtfbocSMAuNBmCvBjnVN7SKkp3Jo6ejNh+ODpuy1u8UjaV5dGzHPt329OPMj7LWAYBcA3HqrBGxcWM7CkxCohGsEhpxjwPnPSdxHFC40r14m1kmaekT/JxVxQPOZngMFJ3O0btue47HMGM0xqe0tKsyux07KDthpVghfziyU4UNKW8MquZPYAbxgNQqIB+ml57VXU//heuMLNDo3QwTNjLOXcIXAdkKKUkBxPA2bQfjkLpTGHDxReMyVn2fBLdWhj7T8OebVH2hvNbU6zyqCaBzimz8rb9KDlqpm2h9ARHtU/VAfeHdAHziQ8hkUYa9NEcWNNkBAGHJdCtbsetfy13Jey/pdcipnNHplGoon/EKaY175Mlotwj1aViditxFh54qGHRiNg57SEOLFC7L6iabwZhEaC2HhF+Zjt28Vn49cv7LNu/h9k0OYGXslXH40Lr30vNIuyq/YjwQYXHu10t59UrE+adIQaB7TsLP4V20I8w/F/e6Xe+zFxpPQ0X9Ut/dxVALfaFVhvK8CmFK0v1NpagI5SY00VmpO3pvyKtwnDlZtTYSW5p4X0y77v/9ReDybwoym5KGU37E25TO1Hofer8KkUqSLvtKbOrJ7LI82/ilQ0RghsbixM9HkD540TnYnzJDjmQfLIqoXkgl1HvQR3tgLtbaw52l1mVz4h334aDMLaQGxG2L61V9IGz8SmKUXW9SIgOY5JF9W7+Vr5H1BrfGiqZ/Lr7Vnib6Ivz/LNOx409Ql0BZPAc7BBdCLTmyh7iex1di5rcIcK3VI9v0D2zs3OKapPTyZfU0oWnro8VbmVo0dCJhQF5ADCTS3AJgdjW2xQFPGsgMBMz86QElJkiBzcOGX0CbQKUAm1DWhTgCvXVWCzAGJNxO1nacwGhvb2mgmBEyoMwEtweVg2HXiR9D5ZG40EwJmU2cA2mliXrd1fUk9Ur79v4kZcB7Loshn8rGNP6ByCDQmhv/5Uzi0RT5oCjv40ML/A36ew7vr9U9aAAAAAElFTkSuQmCC",
      "text/latex": [
       "$\\displaystyle 1 + x + \\frac{x^{2}}{2} + O\\left(x^{4}\\right)$"
      ],
      "text/plain": [
       "         2        \n",
       "        x     ⎛ 4⎞\n",
       "1 + x + ── + O⎝x ⎠\n",
       "        2         "
      ]
     },
     "execution_count": 33,
     "metadata": {},
     "output_type": "execute_result"
    }
   ],
   "source": [
    "expr = exp(sin(x))\n",
    "expr.series(x, 0, 4)\n"
   ]
  },
  {
   "cell_type": "markdown",
   "id": "cd2c6e7b",
   "metadata": {
    "slideshow": {
     "slide_type": "fragment"
    }
   },
   "source": [
    "The $O\\left(x^4\\right)$ term at the end represents the Landau order term at\n",
    "`x=0` (not to be confused with big O notation used in computer science, which\n",
    "generally represents the Landau order term at $x=\\infty$. All x terms with power greater than or equal to $x^4$ are omitted. Order terms\n",
    "can be created and manipulated outside of `series`. They automatically absorb higher-order terms.\n"
   ]
  },
  {
   "cell_type": "markdown",
   "id": "9e45cea2",
   "metadata": {
    "slideshow": {
     "slide_type": "slide"
    }
   },
   "source": [
    "## Lambdafy\n",
    "\n",
    "Lambdafy allows you to use SymPy expressions as functions\n"
   ]
  },
  {
   "cell_type": "markdown",
   "id": "09c7c8b0",
   "metadata": {
    "slideshow": {
     "slide_type": "fragment"
    }
   },
   "source": [
    "The easiest way to convert a SymPy expression to an expression that can be numerically evaluated is to use the `lambdify` function. `lambdify` acts like a `lambda` function, except it converts the SymPy names to the names of the given numerical library, usually NumPy. For example\n"
   ]
  },
  {
   "cell_type": "markdown",
   "id": "356863c5",
   "metadata": {
    "slideshow": {
     "slide_type": "subslide"
    }
   },
   "source": [
    "Recall `Lambda` functions are just small anonymous functions\n"
   ]
  },
  {
   "cell_type": "code",
   "execution_count": null,
   "id": "d58f3ec2",
   "metadata": {
    "slideshow": {
     "slide_type": "fragment"
    }
   },
   "outputs": [
    {
     "name": "stdout",
     "output_type": "stream",
     "text": [
      "[10 11 12 13 14 15 16 17 18 19]\n"
     ]
    }
   ],
   "source": [
    "import numpy as np\n",
    "\n",
    "x = lambda a: a + 10\n",
    "print(x(np.arange(10)))"
   ]
  },
  {
   "cell_type": "code",
   "execution_count": null,
   "id": "8ab2fd48",
   "metadata": {
    "slideshow": {
     "slide_type": "fragment"
    }
   },
   "outputs": [
    {
     "name": "stdout",
     "output_type": "stream",
     "text": [
      "30\n"
     ]
    }
   ],
   "source": [
    "x = lambda a, b: a * b\n",
    "print(x(5, 6))\n"
   ]
  },
  {
   "cell_type": "code",
   "execution_count": null,
   "id": "be137b07",
   "metadata": {
    "slideshow": {
     "slide_type": "fragment"
    }
   },
   "outputs": [
    {
     "name": "stdout",
     "output_type": "stream",
     "text": [
      "33\n"
     ]
    }
   ],
   "source": [
    "def myfunc(n):\n",
    "    return lambda a: a * n\n",
    "\n",
    "\n",
    "mytripler = myfunc(3)\n",
    "\n",
    "print(mytripler(11))"
   ]
  },
  {
   "cell_type": "markdown",
   "id": "38683668",
   "metadata": {
    "slideshow": {
     "slide_type": "subslide"
    }
   },
   "source": [
    "### Using Lambdafy with SymPy\n"
   ]
  },
  {
   "cell_type": "code",
   "execution_count": null,
   "id": "3181962d",
   "metadata": {
    "slideshow": {
     "slide_type": "fragment"
    }
   },
   "outputs": [
    {
     "data": {
      "text/plain": [
       "array([ 0.        ,  0.84147098,  0.90929743,  0.14112001, -0.7568025 ,\n",
       "       -0.95892427, -0.2794155 ,  0.6569866 ,  0.98935825,  0.41211849])"
      ]
     },
     "execution_count": 41,
     "metadata": {},
     "output_type": "execute_result"
    }
   ],
   "source": [
    "x = symbols(\"x\")\n",
    "a = np.arange(10)\n",
    "expr = sin(x)\n",
    "\n",
    "\n",
    "f = lambdify(x, expr)\n",
    "\n",
    "f(a)\n"
   ]
  }
 ],
 "metadata": {
  "celltoolbar": "Tags",
  "kernelspec": {
   "display_name": "Python 3.9.12",
   "language": "python",
   "name": "python3"
  },
  "language_info": {
   "codemirror_mode": {
    "name": "ipython",
    "version": 3
   },
   "file_extension": ".py",
   "mimetype": "text/x-python",
   "name": "python",
   "nbconvert_exporter": "python",
   "pygments_lexer": "ipython3",
<<<<<<< HEAD
   "version": "3.10.0"
=======
   "version": "3.10.13"
>>>>>>> 6705a020b0958f423ff6ce78f503bc970904e6d0
  },
  "vscode": {
   "interpreter": {
    "hash": "81436187d6781c3ccec267398526cbaf638744671e64245120c2d906c5c69e63"
   }
  }
 },
 "nbformat": 4,
 "nbformat_minor": 5
}
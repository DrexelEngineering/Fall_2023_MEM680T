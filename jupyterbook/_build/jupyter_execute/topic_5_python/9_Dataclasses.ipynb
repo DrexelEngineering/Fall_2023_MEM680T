{
 "cells": [
  {
   "cell_type": "markdown",
   "metadata": {
    "slideshow": {
     "slide_type": "slide"
    }
   },
   "source": [
    "# Data Classes in Python\n"
   ]
  },
  {
   "cell_type": "markdown",
   "metadata": {
    "slideshow": {
     "slide_type": "fragment"
    }
   },
   "source": [
    "\n",
    "Python's data classes, introduced in Python 3.7, simplify the creation of classes that are primarily used to store data. \n",
    " - With the `@dataclass` decorator, Python automatically generates several special methods for the class, including \n",
    "   - `__init__()` for initialization\n",
    "   - `__repr__()` for object representation\n",
    "   -  `__eq__()` for object comparison, based on the class attributes.\n"
   ]
  },
  {
   "cell_type": "markdown",
   "metadata": {
    "slideshow": {
     "slide_type": "subslide"
    }
   },
   "source": [
    "## Getting Started\n",
    "To utilize data classes, you need to import the `dataclass` decorator from the `dataclasses` standard library module:"
   ]
  },
  {
   "cell_type": "code",
   "execution_count": 1,
   "metadata": {
    "slideshow": {
     "slide_type": "fragment"
    }
   },
   "outputs": [],
   "source": [
    "from dataclasses import dataclass"
   ]
  },
  {
   "cell_type": "markdown",
   "metadata": {
    "slideshow": {
     "slide_type": "subslide"
    }
   },
   "source": [
    "## Basic Data Class Example\n",
    "Here's a basic example representing a Drexel University course:\n"
   ]
  },
  {
   "cell_type": "code",
   "execution_count": 2,
   "metadata": {
    "slideshow": {
     "slide_type": "fragment"
    }
   },
   "outputs": [],
   "source": [
    "\n",
    "@dataclass\n",
    "class DrexelCourse:\n",
    "    course_id: str\n",
    "    course_name: str\n",
    "    credit_hours: int\n"
   ]
  },
  {
   "cell_type": "markdown",
   "metadata": {
    "slideshow": {
     "slide_type": "subslide"
    }
   },
   "source": [
    "### Instantiation\n",
    "You can instantiate the class as follows:"
   ]
  },
  {
   "cell_type": "code",
   "execution_count": 3,
   "metadata": {
    "slideshow": {
     "slide_type": "fragment"
    }
   },
   "outputs": [
    {
     "name": "stdout",
     "output_type": "stream",
     "text": [
      "DrexelCourse(course_id='MEM680', course_name='Data Analysis and Machine Learning', credit_hours=3)\n"
     ]
    }
   ],
   "source": [
    "\n",
    "mem680 = DrexelCourse(\"MEM680\", \"Data Analysis and Machine Learning\", 3)\n",
    "print(mem680)\n"
   ]
  },
  {
   "cell_type": "markdown",
   "metadata": {
    "slideshow": {
     "slide_type": "subslide"
    }
   },
   "source": [
    "### Attribute Access\n",
    "Attributes can be accessed like any other class:\n"
   ]
  },
  {
   "cell_type": "code",
   "execution_count": 4,
   "metadata": {
    "slideshow": {
     "slide_type": "fragment"
    }
   },
   "outputs": [
    {
     "name": "stdout",
     "output_type": "stream",
     "text": [
      "MEM680\n"
     ]
    }
   ],
   "source": [
    "\n",
    "print(mem680.course_id)\n"
   ]
  },
  {
   "cell_type": "markdown",
   "metadata": {
    "slideshow": {
     "slide_type": "subslide"
    }
   },
   "source": [
    "\n",
    "## Adding Default Values\n",
    "You can specify default values for attributes:\n"
   ]
  },
  {
   "cell_type": "code",
   "execution_count": 5,
   "metadata": {
    "slideshow": {
     "slide_type": "fragment"
    }
   },
   "outputs": [],
   "source": [
    "\n",
    "from dataclasses import field\n",
    "\n",
    "@dataclass\n",
    "class DrexelCourse:\n",
    "    course_id: str\n",
    "    course_name: str\n",
    "    credit_hours: int\n",
    "    instructor: str = field(default=\"TBA\")\n"
   ]
  },
  {
   "cell_type": "markdown",
   "metadata": {
    "slideshow": {
     "slide_type": "subslide"
    }
   },
   "source": [
    "\n",
    "\n",
    "### Instantiation with Default Value\n"
   ]
  },
  {
   "cell_type": "code",
   "execution_count": 6,
   "metadata": {
    "slideshow": {
     "slide_type": "fragment"
    }
   },
   "outputs": [
    {
     "name": "stdout",
     "output_type": "stream",
     "text": [
      "DrexelCourse(course_id='CS570', course_name='Artificial Intelligence', credit_hours=3, instructor='TBA')\n"
     ]
    }
   ],
   "source": [
    "cs_570 = DrexelCourse(\"CS570\", \"Artificial Intelligence\", 3)\n",
    "print(cs_570)  \n"
   ]
  },
  {
   "cell_type": "markdown",
   "metadata": {
    "slideshow": {
     "slide_type": "subslide"
    }
   },
   "source": [
    "## Immutable Data Classes\n",
    "To make a data class immutable, you can set the `frozen` parameter to `True`:\n"
   ]
  },
  {
   "cell_type": "code",
   "execution_count": 7,
   "metadata": {
    "slideshow": {
     "slide_type": "fragment"
    }
   },
   "outputs": [],
   "source": [
    "@dataclass(frozen=True)\n",
    "class DrexelCourseImmutable:\n",
    "    course_id: str\n",
    "    course_name: str\n",
    "    credit_hours: int\n",
    "    \n"
   ]
  },
  {
   "cell_type": "markdown",
   "metadata": {
    "slideshow": {
     "slide_type": "subslide"
    }
   },
   "source": [
    "\n",
    "### Attempting to Change Attribute\n",
    "Attempting to change an attribute will raise an exception:\n"
   ]
  },
  {
   "cell_type": "code",
   "execution_count": 8,
   "metadata": {
    "slideshow": {
     "slide_type": "fragment"
    },
    "tags": [
     "skip-execution"
    ]
   },
   "outputs": [
    {
     "ename": "FrozenInstanceError",
     "evalue": "cannot assign to field 'course_id'",
     "output_type": "error",
     "traceback": [
      "\u001b[1;31m---------------------------------------------------------------------------\u001b[0m",
      "\u001b[1;31mFrozenInstanceError\u001b[0m                       Traceback (most recent call last)",
      "Input \u001b[1;32mIn [8]\u001b[0m, in \u001b[0;36m<cell line: 2>\u001b[1;34m()\u001b[0m\n\u001b[0;32m      1\u001b[0m cs_570_immutable \u001b[38;5;241m=\u001b[39m DrexelCourseImmutable(\u001b[38;5;124m\"\u001b[39m\u001b[38;5;124mCS570\u001b[39m\u001b[38;5;124m\"\u001b[39m, \u001b[38;5;124m\"\u001b[39m\u001b[38;5;124mArtificial Intelligence\u001b[39m\u001b[38;5;124m\"\u001b[39m, \u001b[38;5;241m3\u001b[39m)\n\u001b[1;32m----> 2\u001b[0m \u001b[43mcs_570_immutable\u001b[49m\u001b[38;5;241;43m.\u001b[39;49m\u001b[43mcourse_id\u001b[49m \u001b[38;5;241m=\u001b[39m \u001b[38;5;124m\"\u001b[39m\u001b[38;5;124mCS580\u001b[39m\u001b[38;5;124m\"\u001b[39m  \n",
      "File \u001b[1;32m<string>:4\u001b[0m, in \u001b[0;36m__setattr__\u001b[1;34m(self, name, value)\u001b[0m\n",
      "\u001b[1;31mFrozenInstanceError\u001b[0m: cannot assign to field 'course_id'"
     ]
    }
   ],
   "source": [
    "cs_570_immutable = DrexelCourseImmutable(\"CS570\", \"Artificial Intelligence\", 3)\n",
    "cs_570_immutable.course_id = \"CS580\"  \n"
   ]
  },
  {
   "cell_type": "markdown",
   "metadata": {
    "slideshow": {
     "slide_type": "subslide"
    }
   },
   "source": [
    "## Advanced Utility of DataClasses"
   ]
  },
  {
   "cell_type": "code",
   "execution_count": 8,
   "metadata": {
    "slideshow": {
     "slide_type": "fragment"
    }
   },
   "outputs": [],
   "source": [
    "from dataclasses import dataclass, field, InitVar\n",
    "\n",
    "@dataclass\n",
    "class DrexelCourse:\n",
    "    code: str\n",
    "    name: str\n",
    "    credits: int\n",
    "    course_tag: str = field(init=False)  # This attribute will be populated in __post_init__\n",
    "\n",
    "    def __post_init__(self):\n",
    "        self.course_tag = f\"{self.code} - {self.name}\"\n"
   ]
  },
  {
   "cell_type": "code",
   "execution_count": 9,
   "metadata": {
    "slideshow": {
     "slide_type": "fragment"
    }
   },
   "outputs": [],
   "source": [
    "\n",
    "# Instantiate a course\n",
    "course1 = DrexelCourse(\"CS101\", \"Intro to Computer Science\", 3)\n"
   ]
  },
  {
   "cell_type": "markdown",
   "metadata": {
    "slideshow": {
     "slide_type": "fragment"
    }
   },
   "source": [
    "When using Python's `dataclasses`, the `__eq__` and `__repr__` methods can be automatically generated if you don't explicitly set their flags to `False` in the `@dataclass` decorator. \n"
   ]
  },
  {
   "cell_type": "markdown",
   "metadata": {
    "slideshow": {
     "slide_type": "subslide"
    }
   },
   "source": [
    "### Default `__eq__`\n",
    "\n",
    "The default `__eq__` method compares the class instances by each of their fields. Two instances are equal if all their fields are equal."
   ]
  },
  {
   "cell_type": "code",
   "execution_count": 10,
   "metadata": {
    "slideshow": {
     "slide_type": "fragment"
    }
   },
   "outputs": [
    {
     "name": "stdout",
     "output_type": "stream",
     "text": [
      "True\n"
     ]
    }
   ],
   "source": [
    "\n",
    "# Default __eq__ behavior\n",
    "course2 = DrexelCourse(\"CS101\", \"Intro to Computer Science\", 3)\n",
    "print(course1 == course2) \n"
   ]
  },
  {
   "cell_type": "markdown",
   "metadata": {
    "slideshow": {
     "slide_type": "subslide"
    }
   },
   "source": [
    "### Default `__repr__`\n",
    "\n",
    "The default `__repr__` method returns a string that, when passed to `eval`, could create an object with the same field values. It includes the class name and all fields."
   ]
  },
  {
   "cell_type": "code",
   "execution_count": 11,
   "metadata": {
    "slideshow": {
     "slide_type": "fragment"
    }
   },
   "outputs": [
    {
     "name": "stdout",
     "output_type": "stream",
     "text": [
      "DrexelCourse(code='CS101', name='Intro to Computer Science', credits=3, course_tag='CS101 - Intro to Computer Science')\n"
     ]
    }
   ],
   "source": [
    "\n",
    "# Default __repr__ behavior\n",
    "print(repr(course1))  \n"
   ]
  },
  {
   "cell_type": "markdown",
   "metadata": {
    "slideshow": {
     "slide_type": "subslide"
    }
   },
   "source": [
    "### `__post_init__`` Method\n",
    "\n",
    "Here, the `__post_init__` method concatenates the code and name fields to generate a course_tag, which is then used as a new attribute of the object. \n",
    " - Note that the course_tag attribute is marked with field(init=False), which means it is not initialized via the constructor but will be populated by the `__post_init__` method."
   ]
  },
  {
   "cell_type": "code",
   "execution_count": 12,
   "metadata": {
    "slideshow": {
     "slide_type": "fragment"
    }
   },
   "outputs": [
    {
     "name": "stdout",
     "output_type": "stream",
     "text": [
      "CS101 - Intro to Computer Science\n"
     ]
    }
   ],
   "source": [
    "\n",
    "# Display the new attribute\n",
    "print(course1.course_tag)  "
   ]
  },
  {
   "cell_type": "code",
   "execution_count": null,
   "metadata": {},
   "outputs": [],
   "source": []
  }
 ],
 "metadata": {
  "celltoolbar": "Slideshow",
  "kernelspec": {
   "display_name": "Python 3 (ipykernel)",
   "language": "python",
   "name": "python3"
  },
  "language_info": {
   "codemirror_mode": {
    "name": "ipython",
    "version": 3
   },
   "file_extension": ".py",
   "mimetype": "text/x-python",
   "name": "python",
   "nbconvert_exporter": "python",
   "pygments_lexer": "ipython3",
   "version": "3.10.13"
  },
  "varInspector": {
   "cols": {
    "lenName": 16,
    "lenType": 16,
    "lenVar": 40
   },
   "kernels_config": {
    "python": {
     "delete_cmd_postfix": "",
     "delete_cmd_prefix": "del ",
     "library": "var_list.py",
     "varRefreshCmd": "print(var_dic_list())"
    },
    "r": {
     "delete_cmd_postfix": ") ",
     "delete_cmd_prefix": "rm(",
     "library": "var_list.r",
     "varRefreshCmd": "cat(var_dic_list()) "
    }
   },
   "types_to_exclude": [
    "module",
    "function",
    "builtin_function_or_method",
    "instance",
    "_Feature"
   ],
   "window_display": false
  }
 },
 "nbformat": 4,
 "nbformat_minor": 2
}
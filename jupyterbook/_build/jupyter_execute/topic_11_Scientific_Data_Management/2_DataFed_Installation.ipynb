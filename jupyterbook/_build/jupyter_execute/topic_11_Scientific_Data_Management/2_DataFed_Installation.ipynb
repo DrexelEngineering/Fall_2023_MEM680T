{
 "cells": [
  {
   "cell_type": "markdown",
   "metadata": {
    "slideshow": {
     "slide_type": "slide"
    }
   },
   "source": [
    "# Installing DataFed"
   ]
  },
  {
   "cell_type": "markdown",
   "metadata": {
    "slideshow": {
     "slide_type": "subslide"
    }
   },
   "source": [
    "## Getting Started\n",
    "\n",
    "Please follow this guide to get started with DataFed\n"
   ]
  },
  {
   "cell_type": "markdown",
   "metadata": {
    "slideshow": {
     "slide_type": "fragment"
    }
   },
   "source": [
    "### Get a Globus account\n",
    "\n",
    "Follow only step 1 of instructions [here](https://docs.globus.org/how-to/get-started/) to get a Globus account.\n"
   ]
  },
  {
   "cell_type": "markdown",
   "metadata": {
    "slideshow": {
     "slide_type": "fragment"
    }
   },
   "source": [
    "### Get a Globus ID\n",
    "\n",
    "Ensure that your `globus ID` is linked with your institutional ID in your globus account:\n",
    "\n",
    "1. Log into [globus.org](https://www.globus.org/)\n"
   ]
  },
  {
   "cell_type": "markdown",
   "metadata": {
    "slideshow": {
     "slide_type": "fragment"
    }
   },
   "source": [
    "2. Click on `Account` on the left hand pane\n"
   ]
  },
  {
   "cell_type": "markdown",
   "metadata": {
    "slideshow": {
     "slide_type": "fragment"
    }
   },
   "source": [
    "3. Select the `Identities` tab in the window that opens up\n",
    "\n",
    "You should see (at least these) two identities:\n",
    "\n",
    "- One from your home institution (that is listed as primary with a crown)\n",
    "\n",
    "- Globus ID (your_username@globusid.org)\n",
    "\n",
    "- If you do not see the `Globus ID`, click on `Link another identity`. Select `Globus ID` and link this ID.\n"
   ]
  },
  {
   "cell_type": "markdown",
   "metadata": {
    "slideshow": {
     "slide_type": "fragment"
    }
   },
   "source": [
    "### Register at DataFed\n",
    "\n",
    "1. Once you have a Globus ID, visit the [DataFed web portal](https://datafed.ornl.gov/).\n"
   ]
  },
  {
   "cell_type": "markdown",
   "metadata": {
    "slideshow": {
     "slide_type": "fragment"
    }
   },
   "source": [
    "2. Click on the `Log in / Register` button on the top right of the page.\n"
   ]
  },
  {
   "cell_type": "markdown",
   "metadata": {
    "slideshow": {
     "slide_type": "fragment"
    }
   },
   "source": [
    "3. Follow the steps to register yourself with DataFed.\n"
   ]
  },
  {
   "cell_type": "markdown",
   "metadata": {
    "slideshow": {
     "slide_type": "fragment"
    }
   },
   "source": [
    "4. Though you can log into the DataFed web portal with your institution’s credentials, you will need the username and password you set up during your registration for scripting.\n"
   ]
  },
  {
   "cell_type": "markdown",
   "metadata": {
    "slideshow": {
     "slide_type": "fragment"
    }
   },
   "source": [
    "```{note}\n",
    "Your institutional credentials are not the same as your DataFed credentials. The latter is only required for using DataFed via python / CLI.\n",
    "```\n"
   ]
  },
  {
   "cell_type": "markdown",
   "metadata": {
    "slideshow": {
     "slide_type": "fragment"
    }
   },
   "source": [
    "### Get data allocations\n",
    "\n",
    "As the name suggests, a data allocation is just the data storage space that users and projects can use to store and share data of their own. Though you can start to use DataFed at this point to view and get publicly shared data, it would not be possible to create or manipulate data of your own unless you have a data allocation in a DataFed data repository.\n",
    "\n",
    "You can request a small allocation from Prof. Agar. If you would like to use DataFed for your research please email [Prof. Agar](jca92@drexel.edu)\n"
   ]
  },
  {
   "cell_type": "markdown",
   "metadata": {
    "slideshow": {
     "slide_type": "fragment"
    }
   },
   "source": [
    "### Install a Globus Endpoint\n",
    "\n",
    "You will need a [Globus endpoint](https://docs.cades.ornl.gov/#data-transfer-storage/globus-endpoints/) on every machine where you intend to download / upload data.\n",
    "\n",
    "- Most computing facilities already have a Globus endpoint\n"
   ]
  },
  {
   "cell_type": "markdown",
   "metadata": {
    "slideshow": {
     "slide_type": "subslide"
    }
   },
   "source": [
    "### Using Personal Computers and Workstations\n",
    "\n",
    "1. Install [Globus Personal Connect](https://www.globus.org/globus-connect-personal)\n"
   ]
  },
  {
   "cell_type": "markdown",
   "metadata": {
    "slideshow": {
     "slide_type": "fragment"
    }
   },
   "source": [
    "2. When conducting the install make note of the endpoint name\n"
   ]
  },
  {
   "cell_type": "markdown",
   "metadata": {
    "slideshow": {
     "slide_type": "fragment"
    }
   },
   "source": [
    "3. Log into Globus: Drexel does not have an organizational login, you may choose to either Sign in with Google or Sign in with ORCiD iD.\n",
    "\n",
    "![](figs/globus_google.png)\n"
   ]
  },
  {
   "cell_type": "markdown",
   "metadata": {
    "slideshow": {
     "slide_type": "fragment"
    }
   },
   "source": [
    "4. Check your managed endpoints to make sure your endpoint is visible.\n",
    "   - You want to copy the UUID - this is the ID to the endpoint\n",
    "\n",
    "![](figs/Id.png)\n"
   ]
  },
  {
   "cell_type": "markdown",
   "metadata": {
    "slideshow": {
     "slide_type": "fragment"
    }
   },
   "source": [
    "5. Installing DataFed\n",
    "\n",
    "   `pip install datafed`\n",
    "\n",
    "Note, if you used the `requirements.txt` file this was already installed. You can just verify that it was installed by running `pip install command`\n"
   ]
  },
  {
   "cell_type": "markdown",
   "metadata": {
    "slideshow": {
     "slide_type": "fragment"
    }
   },
   "source": [
    "6. Ensure the bin Directory is in the Path\n",
    "\n",
    "If you do not see an error when you type `datafed` in your terminal, you may skip this step.\n",
    "\n",
    "If you encounter errors stating that `datafed was an unknown command`, you would need to add DataFed to your path.\n",
    "\n",
    "To add a new path to a Conda environment, you generally want to modify the `PATH` variable of the Conda environment in question. Here are the steps to do so:\n",
    "\n",
    "1. **Activate the Conda environment**:\n",
    "   First, you need to activate the Conda environment to which you want to add a path.\n",
    "   ```\n",
    "   conda activate <your_env_name>\n",
    "   ```\n",
    "\n",
    "2. **Find the location of the Conda environment**:\n",
    "   If you don't know the location of the Conda environment, you can find it using the following command:\n",
    "   ```\n",
    "   conda info --envs\n",
    "   ```\n",
    "   This command lists all Conda environments and their paths. Note down the path for your specific environment.\n",
    "\n",
    "3. **Modify the PATH for the environment**:\n",
    "   Each Conda environment has a `bin` directory (or `Scripts` directory on Windows) that contains executables and scripts. To add a new path, you'll want to modify the `activate` script for the environment. \n",
    "\n",
    "   - On **Linux/Mac**, the script will be located in:\n",
    "     ```\n",
    "     <path_to_your_environment>/bin/activate\n",
    "     ```\n",
    "   - On **Windows**, the script will be located in:\n",
    "     ```\n",
    "     <path_to_your_environment>\\Scripts\\activate.bat\n",
    "     ```\n",
    "\n",
    "   Open the `activate` script in a text editor. Look for a line that modifies the `PATH` variable and add your desired path to it. On Linux/Mac, it might look like:\n",
    "   ```bash\n",
    "   export PATH=\"<path_to_your_environment>/bin:$PATH\"\n",
    "   ```\n",
    "   Append your desired path at the end (or beginning, depending on your needs):\n",
    "   ```bash\n",
    "   export PATH=\"<path_to_your_environment>/bin:<your_new_path>:$PATH\"\n",
    "   ```\n",
    "\n",
    "4. **Deactivate and Reactivate the Environment**:\n",
    "   Once you've made the changes, deactivate the Conda environment and activate it again to see the changes take effect:\n",
    "   ```\n",
    "   conda deactivate\n",
    "   conda activate <your_env_name>\n",
    "   ```\n",
    "\n",
    "5. **Check the PATH**:\n",
    "   After reactivating your environment, you can check the `PATH` variable to ensure your new path has been added:\n",
    "   ```\n",
    "   echo $PATH\n",
    "   ```\n",
    "\n",
    "Note: Modifying system or environment paths can affect the behavior of software and commands. Ensure that you understand the implications and backup any files before making modifications.\n",
    "\n",
    "- Next, add DataFed to the `PATH` variable.\n"
   ]
  },
  {
   "cell_type": "markdown",
   "metadata": {
    "slideshow": {
     "slide_type": "fragment"
    }
   },
   "source": [
    "7. Basic Configuration\n",
    "\n",
    "- Type the following command into shell:\n",
    "\n",
    "`datafed setup`\n",
    "\n",
    "It will prompt you for your username and password.\n"
   ]
  },
  {
   "cell_type": "markdown",
   "metadata": {
    "slideshow": {
     "slide_type": "fragment"
    }
   },
   "source": [
    "- Enter the credentials you set up when registering for an account on DataFed (not your institutional credentials you use to log into the machine)\n"
   ]
  },
  {
   "cell_type": "markdown",
   "metadata": {
    "slideshow": {
     "slide_type": "fragment"
    }
   },
   "source": [
    "- Add the Globus endpoint specific to this machine / file-system as the default endpoint via:\n",
    "\n",
    "`datafed ep default set endpoint_name_here`\n",
    "\n",
    "```{note}\n",
    "If you are using Globus Connect Personal, visit the Settings or Preferences of the application to inspect which folders Globus has write access to. Consider adding or removing directories to suit your needs.\n",
    "```\n"
   ]
  },
  {
   "cell_type": "markdown",
   "metadata": {},
   "source": [
    "## Potential Error\n",
    "\n",
    "If you get the following error: \n",
    "\n",
    "```\n",
    "TypeError: Descriptors cannot be created directly.\n",
    "If this call came from a _pb2.py file, your generated code is out of date and must be regenerated with protoc >= 3.19.0.\n",
    "If you cannot immediately regenerate your protos, some other possible workarounds are:\n",
    " 1. Downgrade the protobuf package to 3.20.x or lower.\n",
    " 2. Set PROTOCOL_BUFFERS_PYTHON_IMPLEMENTATION=python (but this will use pure-Python parsing and will be much slower).\n",
    "\n",
    "More information: https://developers.google.com/protocol-buffers/docs/news/2022-05-06#python-updates \n",
    "```\n",
    "\n",
    "You need to downgrade the protobuf package to 3.20.x or lower.\n",
    "\n",
    "`pip install protobuf==3.20.0`"
   ]
  },
  {
   "cell_type": "markdown",
   "metadata": {
    "slideshow": {
     "slide_type": "slide"
    }
   },
   "source": [
    "## Checking DataFed Installation and Configuration\n"
   ]
  },
  {
   "cell_type": "code",
   "execution_count": 1,
   "metadata": {
    "scrolled": true,
    "slideshow": {
     "slide_type": "fragment"
    }
   },
   "outputs": [],
   "source": [
    "# Import packages\n",
    "\n",
    "import os\n",
    "import getpass\n",
    "import subprocess\n",
    "from platform import platform\n",
    "import sys\n",
    "from datafed.CommandLib import API\n",
    "from datafed import version as df_ver\n",
    "\n",
    "try:\n",
    "    datapath = os.mkdir(\"./datapath\")\n",
    "except:\n",
    "    datapath = \"./datapath\"\n"
   ]
  },
  {
   "cell_type": "markdown",
   "metadata": {
    "slideshow": {
     "slide_type": "subslide"
    }
   },
   "source": [
    "### 0. Machine information:\n"
   ]
  },
  {
   "cell_type": "markdown",
   "metadata": {
    "slideshow": {
     "slide_type": "fragment"
    }
   },
   "source": [
    "Python version:\n"
   ]
  },
  {
   "cell_type": "code",
   "execution_count": 2,
   "metadata": {
    "slideshow": {
     "slide_type": "fragment"
    }
   },
   "outputs": [
    {
     "data": {
      "text/plain": [
<<<<<<< HEAD
       "sys.version_info(major=3, minor=10, micro=0, releaselevel='final', serial=0)"
=======
       "sys.version_info(major=3, minor=10, micro=13, releaselevel='final', serial=0)"
>>>>>>> 6705a020b0958f423ff6ce78f503bc970904e6d0
      ]
     },
     "execution_count": 2,
     "metadata": {},
     "output_type": "execute_result"
    }
   ],
   "source": [
    "sys.version_info\n"
   ]
  },
  {
   "cell_type": "code",
   "execution_count": 3,
   "metadata": {
    "slideshow": {
     "slide_type": "fragment"
    }
   },
   "outputs": [
    {
     "data": {
      "text/plain": [
<<<<<<< HEAD
       "'Windows-10-10.0.22635-SP0'"
=======
       "'Windows-10-10.0.22621-SP0'"
>>>>>>> 6705a020b0958f423ff6ce78f503bc970904e6d0
      ]
     },
     "execution_count": 3,
     "metadata": {},
     "output_type": "execute_result"
    }
   ],
   "source": [
    "platform()\n"
   ]
  },
  {
   "cell_type": "markdown",
   "metadata": {
    "slideshow": {
     "slide_type": "subslide"
    }
   },
   "source": [
    "### 1. Verify DataFed installation:\n"
   ]
  },
  {
   "cell_type": "code",
   "execution_count": 4,
   "metadata": {},
   "outputs": [
    {
     "name": "stdout",
     "output_type": "stream",
     "text": [
      "Success! You have DataFed: 2.0.3\n"
     ]
    }
   ],
   "source": [
    "df_api = API()\n",
    "\n",
    "print(\"Success! You have DataFed: \" + df_ver)"
   ]
  },
  {
   "cell_type": "markdown",
   "metadata": {
    "slideshow": {
     "slide_type": "subslide"
    }
   },
   "source": [
    "### 2. Verify user authentication:\n"
   ]
  },
  {
   "cell_type": "code",
   "execution_count": 5,
   "metadata": {
    "slideshow": {
     "slide_type": "fragment"
    }
   },
   "outputs": [
    {
     "name": "stdout",
     "output_type": "stream",
     "text": [
      "You have not authenticated into DataFed Client\n",
      "Please follow instructions in the \"Basic Configuration\" section in the link below to authenticate yourself:\n",
      "https://ornl.github.io/DataFed/user/client/install.html#basic-configuration\n"
     ]
    }
   ],
   "source": [
    "if df_api.getAuthUser():\n",
    "    print(\n",
    "        \"Success! You have been authenticated into DataFed as: \" + df_api.getAuthUser()\n",
    "    )\n",
    "else:\n",
    "    print(\"You have not authenticated into DataFed Client\")\n",
    "    print(\n",
    "        'Please follow instructions in the \"Basic Configuration\" section in the link below to authenticate yourself:'\n",
    "    )\n",
    "    print(\"https://ornl.github.io/DataFed/user/client/install.html#basic-configuration\")"
   ]
  },
  {
   "cell_type": "markdown",
   "metadata": {},
   "source": []
  },
  {
   "cell_type": "markdown",
   "metadata": {
    "slideshow": {
     "slide_type": "subslide"
    }
   },
   "source": [
    "### 3. Ensure Globus Endpoint is set:\n"
   ]
  },
  {
   "cell_type": "code",
   "execution_count": 6,
   "metadata": {
    "slideshow": {
     "slide_type": "fragment"
    }
   },
   "outputs": [
    {
     "name": "stdout",
     "output_type": "stream",
     "text": [
<<<<<<< HEAD
      "Your default Globus Endpoint in DataFed is:\n",
      "f134f91a-572a-11ed-ba55-d5fb255a47cc\n"
=======
      "Please follow instructions in the link below to find your Globus Endpoint:\n",
      "https://ornl.github.io/DataFed/system/getting_started.html#install-identify-globus-endpoint\n"
     ]
    },
    {
     "ename": "StdinNotImplementedError",
     "evalue": "raw_input was called, but this frontend does not support input requests.",
     "output_type": "error",
     "traceback": [
      "\u001b[1;31m---------------------------------------------------------------------------\u001b[0m",
      "\u001b[1;31mStdinNotImplementedError\u001b[0m                  Traceback (most recent call last)",
      "Cell \u001b[1;32mIn [6], line 6\u001b[0m\n\u001b[0;32m      2\u001b[0m     \u001b[38;5;28mprint\u001b[39m(\u001b[38;5;124m\"\u001b[39m\u001b[38;5;124mPlease follow instructions in the link below to find your Globus Endpoint:\u001b[39m\u001b[38;5;124m\"\u001b[39m)\n\u001b[0;32m      3\u001b[0m     \u001b[38;5;28mprint\u001b[39m(\n\u001b[0;32m      4\u001b[0m         \u001b[38;5;124m\"\u001b[39m\u001b[38;5;124mhttps://ornl.github.io/DataFed/system/getting_started.html#install-identify-globus-endpoint\u001b[39m\u001b[38;5;124m\"\u001b[39m\n\u001b[0;32m      5\u001b[0m     )\n\u001b[1;32m----> 6\u001b[0m     endpoint \u001b[38;5;241m=\u001b[39m \u001b[38;5;28;43minput\u001b[39;49m\u001b[43m(\u001b[49m\n\u001b[0;32m      7\u001b[0m \u001b[43m        \u001b[49m\u001b[38;5;124;43m\"\u001b[39;49m\u001b[38;5;130;43;01m\\n\u001b[39;49;00m\u001b[38;5;124;43mPlease enter either the Endpoint UUID or Legacy Name for your Globus Endpoint: \u001b[39;49m\u001b[38;5;124;43m\"\u001b[39;49m\n\u001b[0;32m      8\u001b[0m \u001b[43m    \u001b[49m\u001b[43m)\u001b[49m\n\u001b[0;32m      9\u001b[0m     df_api\u001b[38;5;241m.\u001b[39mendpointDefaultSet(endpoint)\n\u001b[0;32m     11\u001b[0m \u001b[38;5;28mprint\u001b[39m(\u001b[38;5;124m\"\u001b[39m\u001b[38;5;124mYour default Globus Endpoint in DataFed is:\u001b[39m\u001b[38;5;130;01m\\n\u001b[39;00m\u001b[38;5;124m\"\u001b[39m \u001b[38;5;241m+\u001b[39m df_api\u001b[38;5;241m.\u001b[39mendpointDefaultGet())\n",
      "File \u001b[1;32m~\\AppData\\Roaming\\Python\\Python310\\site-packages\\ipykernel\\kernelbase.py:1174\u001b[0m, in \u001b[0;36mKernel.raw_input\u001b[1;34m(self, prompt)\u001b[0m\n\u001b[0;32m   1167\u001b[0m \u001b[38;5;124;03m\"\"\"Forward raw_input to frontends\u001b[39;00m\n\u001b[0;32m   1168\u001b[0m \n\u001b[0;32m   1169\u001b[0m \u001b[38;5;124;03mRaises\u001b[39;00m\n\u001b[0;32m   1170\u001b[0m \u001b[38;5;124;03m------\u001b[39;00m\n\u001b[0;32m   1171\u001b[0m \u001b[38;5;124;03mStdinNotImplementedError if active frontend doesn't support stdin.\u001b[39;00m\n\u001b[0;32m   1172\u001b[0m \u001b[38;5;124;03m\"\"\"\u001b[39;00m\n\u001b[0;32m   1173\u001b[0m \u001b[38;5;28;01mif\u001b[39;00m \u001b[38;5;129;01mnot\u001b[39;00m \u001b[38;5;28mself\u001b[39m\u001b[38;5;241m.\u001b[39m_allow_stdin:\n\u001b[1;32m-> 1174\u001b[0m     \u001b[38;5;28;01mraise\u001b[39;00m StdinNotImplementedError(\n\u001b[0;32m   1175\u001b[0m         \u001b[38;5;124m\"\u001b[39m\u001b[38;5;124mraw_input was called, but this frontend does not support input requests.\u001b[39m\u001b[38;5;124m\"\u001b[39m\n\u001b[0;32m   1176\u001b[0m     )\n\u001b[0;32m   1177\u001b[0m \u001b[38;5;28;01mreturn\u001b[39;00m \u001b[38;5;28mself\u001b[39m\u001b[38;5;241m.\u001b[39m_input_request(\n\u001b[0;32m   1178\u001b[0m     \u001b[38;5;28mstr\u001b[39m(prompt),\n\u001b[0;32m   1179\u001b[0m     \u001b[38;5;28mself\u001b[39m\u001b[38;5;241m.\u001b[39m_parent_ident[\u001b[38;5;124m\"\u001b[39m\u001b[38;5;124mshell\u001b[39m\u001b[38;5;124m\"\u001b[39m],\n\u001b[0;32m   1180\u001b[0m     \u001b[38;5;28mself\u001b[39m\u001b[38;5;241m.\u001b[39mget_parent(\u001b[38;5;124m\"\u001b[39m\u001b[38;5;124mshell\u001b[39m\u001b[38;5;124m\"\u001b[39m),\n\u001b[0;32m   1181\u001b[0m     password\u001b[38;5;241m=\u001b[39m\u001b[38;5;28;01mFalse\u001b[39;00m,\n\u001b[0;32m   1182\u001b[0m )\n",
      "\u001b[1;31mStdinNotImplementedError\u001b[0m: raw_input was called, but this frontend does not support input requests."
>>>>>>> 6705a020b0958f423ff6ce78f503bc970904e6d0
     ]
    }
   ],
   "source": [
    "if not df_api.endpointDefaultGet():\n",
    "    print(\"Please follow instructions in the link below to find your Globus Endpoint:\")\n",
    "    print(\n",
    "        \"https://ornl.github.io/DataFed/system/getting_started.html#install-identify-globus-endpoint\"\n",
    "    )\n",
    "    endpoint = input(\n",
    "        \"\\nPlease enter either the Endpoint UUID or Legacy Name for your Globus Endpoint: \"\n",
    "    )\n",
    "    df_api.endpointDefaultSet(endpoint)\n",
    "\n",
    "print(\"Your default Globus Endpoint in DataFed is:\\n\" + df_api.endpointDefaultGet())"
   ]
  },
  {
   "cell_type": "markdown",
   "metadata": {
    "slideshow": {
     "slide_type": "subslide"
    }
   },
   "source": [
    "### 4. Test Globus Endpoint:\n",
    "\n",
    "This will make sure you have write access to the folder\n"
   ]
  },
  {
   "cell_type": "code",
<<<<<<< HEAD
   "execution_count": 7,
=======
   "execution_count": 23,
>>>>>>> 6705a020b0958f423ff6ce78f503bc970904e6d0
   "metadata": {
    "slideshow": {
     "slide_type": "fragment"
    }
   },
   "outputs": [
    {
<<<<<<< HEAD
     "ename": "Exception",
     "evalue": "Authentication required",
     "output_type": "error",
     "traceback": [
      "\u001b[1;31m---------------------------------------------------------------------------\u001b[0m",
      "\u001b[1;31mException\u001b[0m                                 Traceback (most recent call last)",
      "Cell \u001b[1;32mIn[7], line 2\u001b[0m\n\u001b[0;32m      1\u001b[0m \u001b[38;5;66;03m# This is a dataGet Command\u001b[39;00m\n\u001b[1;32m----> 2\u001b[0m dget_resp \u001b[38;5;241m=\u001b[39m \u001b[43mdf_api\u001b[49m\u001b[38;5;241;43m.\u001b[39;49m\u001b[43mdataGet\u001b[49m\u001b[43m(\u001b[49m\u001b[38;5;124;43m\"\u001b[39;49m\u001b[38;5;124;43md/49965349\u001b[39;49m\u001b[38;5;124;43m\"\u001b[39;49m\u001b[43m,\u001b[49m\u001b[43m \u001b[49m\u001b[43mos\u001b[49m\u001b[38;5;241;43m.\u001b[39;49m\u001b[43mpath\u001b[49m\u001b[38;5;241;43m.\u001b[39;49m\u001b[43mabspath\u001b[49m\u001b[43m(\u001b[49m\u001b[43mdatapath\u001b[49m\u001b[43m)\u001b[49m\u001b[43m,\u001b[49m\u001b[43m \u001b[49m\u001b[43mwait\u001b[49m\u001b[38;5;241;43m=\u001b[39;49m\u001b[38;5;28;43;01mTrue\u001b[39;49;00m\u001b[43m)\u001b[49m\n\u001b[0;32m      3\u001b[0m dget_resp\n",
      "File \u001b[1;32mC:\\ProgramData\\Miniconda3\\envs\\mem680\\lib\\site-packages\\datafed\\CommandLib.py:747\u001b[0m, in \u001b[0;36mAPI.dataGet\u001b[1;34m(self, item_id, path, encrypt, orig_fname, wait, timeout_sec, context)\u001b[0m\n\u001b[0;32m    744\u001b[0m \u001b[38;5;28;01mfor\u001b[39;00m ids \u001b[38;5;129;01min\u001b[39;00m item_id:\n\u001b[0;32m    745\u001b[0m     msg\u001b[38;5;241m.\u001b[39mid\u001b[38;5;241m.\u001b[39mappend(\u001b[38;5;28mself\u001b[39m\u001b[38;5;241m.\u001b[39m_resolve_id(ids, context))\n\u001b[1;32m--> 747\u001b[0m reply \u001b[38;5;241m=\u001b[39m \u001b[38;5;28;43mself\u001b[39;49m\u001b[38;5;241;43m.\u001b[39;49m\u001b[43m_mapi\u001b[49m\u001b[38;5;241;43m.\u001b[39;49m\u001b[43msendRecv\u001b[49m\u001b[43m(\u001b[49m\u001b[43mmsg\u001b[49m\u001b[43m)\u001b[49m\n\u001b[0;32m    749\u001b[0m \u001b[38;5;66;03m# May initiate multiple transfers - one per repo with multiple records per transfer\u001b[39;00m\n\u001b[0;32m    750\u001b[0m \u001b[38;5;66;03m# Downloads may be Globus OR HTTP, but not both\u001b[39;00m\n\u001b[0;32m    752\u001b[0m glob_ids \u001b[38;5;241m=\u001b[39m []\n",
      "File \u001b[1;32mC:\\ProgramData\\Miniconda3\\envs\\mem680\\lib\\site-packages\\datafed\\MessageLib.py:354\u001b[0m, in \u001b[0;36mAPI.sendRecv\u001b[1;34m(self, msg, timeout, nack_except)\u001b[0m\n\u001b[0;32m    352\u001b[0m \u001b[38;5;28mself\u001b[39m\u001b[38;5;241m.\u001b[39msend(msg)\n\u001b[0;32m    353\u001b[0m _timeout \u001b[38;5;241m=\u001b[39m timeout \u001b[38;5;28;01mif\u001b[39;00m timeout \u001b[38;5;241m!=\u001b[39m \u001b[38;5;28;01mNone\u001b[39;00m \u001b[38;5;28;01melse\u001b[39;00m \u001b[38;5;28mself\u001b[39m\u001b[38;5;241m.\u001b[39m_timeout\n\u001b[1;32m--> 354\u001b[0m reply, mt, ctxt \u001b[38;5;241m=\u001b[39m \u001b[38;5;28;43mself\u001b[39;49m\u001b[38;5;241;43m.\u001b[39;49m\u001b[43mrecv\u001b[49m\u001b[43m(\u001b[49m\u001b[43m_timeout\u001b[49m\u001b[43m,\u001b[49m\u001b[43m \u001b[49m\u001b[43mnack_except\u001b[49m\u001b[43m)\u001b[49m\n\u001b[0;32m    355\u001b[0m \u001b[38;5;28;01mif\u001b[39;00m reply \u001b[38;5;241m==\u001b[39m \u001b[38;5;28;01mNone\u001b[39;00m:\n\u001b[0;32m    356\u001b[0m     \u001b[38;5;28;01mraise\u001b[39;00m \u001b[38;5;167;01mException\u001b[39;00m(\u001b[38;5;124m\"\u001b[39m\u001b[38;5;124mTimeout!!!!!!!!!\u001b[39m\u001b[38;5;124m\"\u001b[39m)\n",
      "File \u001b[1;32mC:\\ProgramData\\Miniconda3\\envs\\mem680\\lib\\site-packages\\datafed\\MessageLib.py:399\u001b[0m, in \u001b[0;36mAPI.recv\u001b[1;34m(self, timeout, nack_except)\u001b[0m\n\u001b[0;32m    397\u001b[0m \u001b[38;5;28;01mif\u001b[39;00m msg_type \u001b[38;5;241m==\u001b[39m \u001b[38;5;124m\"\u001b[39m\u001b[38;5;124mNackReply\u001b[39m\u001b[38;5;124m\"\u001b[39m \u001b[38;5;129;01mand\u001b[39;00m _nack_except:\n\u001b[0;32m    398\u001b[0m     \u001b[38;5;28;01mif\u001b[39;00m reply\u001b[38;5;241m.\u001b[39merr_msg:\n\u001b[1;32m--> 399\u001b[0m         \u001b[38;5;28;01mraise\u001b[39;00m \u001b[38;5;167;01mException\u001b[39;00m(reply\u001b[38;5;241m.\u001b[39merr_msg)\n\u001b[0;32m    400\u001b[0m     \u001b[38;5;28;01melse\u001b[39;00m:\n\u001b[0;32m    401\u001b[0m         \u001b[38;5;28;01mraise\u001b[39;00m \u001b[38;5;167;01mException\u001b[39;00m(\u001b[38;5;124m\"\u001b[39m\u001b[38;5;124mServer error \u001b[39m\u001b[38;5;132;01m{}\u001b[39;00m\u001b[38;5;124m\"\u001b[39m\u001b[38;5;241m.\u001b[39mformat(reply\u001b[38;5;241m.\u001b[39merr_code))\n",
      "\u001b[1;31mException\u001b[0m: Authentication required"
     ]
=======
     "data": {
      "text/plain": [
       "(task {\n",
       "   id: \"task/498214918\"\n",
       "   type: TT_DATA_GET\n",
       "   status: TS_SUCCEEDED\n",
       "   client: \"u/jca318\"\n",
       "   step: 2\n",
       "   steps: 3\n",
       "   msg: \"Finished\"\n",
       "   ct: 1699329206\n",
       "   ut: 1699329211\n",
       "   source: \"d/49965349\"\n",
       "   dest: \"f134f91a-572a-11ed-ba55-d5fb255a47cc/c/codes/Fall_2023_MEM680T/jupyterbook/topic_11_Scientific_Data_Management/datapath\"\n",
       " },\n",
       " 'TaskDataReply')"
      ]
     },
     "execution_count": 23,
     "metadata": {},
     "output_type": "execute_result"
>>>>>>> 6705a020b0958f423ff6ce78f503bc970904e6d0
    }
   ],
   "source": [
    "\n",
    "\n",
    "# This is a dataGet Command\n",
    "dget_resp = df_api.dataGet(\"d/49965349\", os.path.abspath(datapath), wait=True)\n",
    "dget_resp\n"
   ]
  },
  {
   "cell_type": "markdown",
   "metadata": {
    "slideshow": {
     "slide_type": "fragment"
    }
   },
   "source": [
    "You can see that a file was downloaded.\n"
   ]
  },
  {
   "cell_type": "code",
   "execution_count": 24,
   "metadata": {
    "slideshow": {
     "slide_type": "fragment"
    }
   },
   "outputs": [
    {
     "name": "stdout",
     "output_type": "stream",
     "text": [
      "Success! Downloaded a test file to your location. Removing the file now\n"
     ]
    }
   ],
   "source": [
    "if dget_resp[0].task[0].status == 3:\n",
    "    print(\"Success! Downloaded a test file to your location. Removing the file now\")\n",
    "    os.remove(os.path.abspath(datapath) + \"/49965349.ibw\")\n",
    "else:\n",
    "    if dget_resp[0].task[0].msg == \"globus connect offline\":\n",
    "        print(\n",
    "            \"You need to activate your Globus Endpoint and/or ensure Globus Connect Personal is running.\\n\"\n",
    "            \"Please visit https://globus.org to activate your Endpoint\"\n",
    "        )\n",
    "    elif dget_resp[0].task[0].msg == \"permission denied\":\n",
    "        print(\n",
    "            \"Globus does not have write access to this directory. \\n\"\n",
    "            \"If you are using Globus Connect Personal, ensure that this notebook runs within\"\n",
    "            \"one of the directories where Globus has write access. You may consider moving this\"\n",
    "            \"notebook to a valid directory or add this directory to the Globus Connect Personal settings\"\n",
    "        )\n",
    "    else:\n",
    "        NotImplementedError(\n",
    "            \"Get in touch with us or consider looking online to find a solution to this problem:\\n\"\n",
    "            + dget_resp[0].task[0].msg\n",
    "        )"
   ]
  },
  {
   "cell_type": "markdown",
   "metadata": {
    "slideshow": {
     "slide_type": "subslide"
    }
   },
   "source": [
    "### (Optional) for Windows - Test for Admin privileges\n",
    "\n",
    "Admin privileges may be necessary for some operations. On Windows when you start your Anaconda Console you can `right-click` and select `run as administrator`\n"
   ]
  },
  {
   "cell_type": "code",
   "execution_count": 25,
   "metadata": {
    "slideshow": {
     "slide_type": "fragment"
    }
   },
   "outputs": [
    {
     "name": "stdout",
     "output_type": "stream",
     "text": [
      "You are not running as an admin\n"
     ]
    }
   ],
   "source": [
    "import ctypes, os\n",
    "\n",
    "try:\n",
    "    is_admin = os.getuid() == 0\n",
    "except AttributeError:\n",
    "    is_admin = ctypes.windll.shell32.IsUserAnAdmin() != 0\n",
    "\n",
    "value = \"\"\n",
    "if not is_admin:\n",
    "    value = \"not \"\n",
    "\n",
    "print(f\"You are {value}running as an admin\")"
   ]
  }
 ],
 "metadata": {
  "celltoolbar": "Slideshow",
  "kernelspec": {
   "display_name": "Python 3 (ipykernel)",
   "language": "python",
   "name": "python3"
  },
  "language_info": {
   "codemirror_mode": {
    "name": "ipython",
    "version": 3
   },
   "file_extension": ".py",
   "mimetype": "text/x-python",
   "name": "python",
   "nbconvert_exporter": "python",
   "pygments_lexer": "ipython3",
<<<<<<< HEAD
   "version": "3.10.0"
=======
   "version": "3.10.13"
>>>>>>> 6705a020b0958f423ff6ce78f503bc970904e6d0
  },
  "vscode": {
   "interpreter": {
    "hash": "c475b5beda6d617ffb7b2fcf453fbe132321ffc1e1f96c06cf49356e1e7f42cb"
   }
  }
 },
 "nbformat": 4,
 "nbformat_minor": 2
}